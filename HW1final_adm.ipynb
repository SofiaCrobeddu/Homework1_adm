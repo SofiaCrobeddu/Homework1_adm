{
 "cells": [
  {
   "cell_type": "markdown",
   "metadata": {
    "id": "WzajGhK3ZxPT",
    "slideshow": {
     "slide_type": ""
    },
    "tags": [
     "parameters"
    ]
   },
   "source": [
    "# **Algorithms for Data Mining: Homework 1**\n",
    "#### Sofia Noemi Crobeddu"
   ]
  },
  {
   "cell_type": "markdown",
   "metadata": {
    "id": "eV6CqjqgdLUt"
   },
   "source": [
    "## **Problem 1**\n",
    "### Introduction\n",
    "#### EX. 1.1.1: Say \"Hello, World!\" With Python"
   ]
  },
  {
   "cell_type": "markdown",
   "metadata": {},
   "source": [
    "*The above code will print Hello, World! on your screen. Try it yourself in the editor below!*"
   ]
  },
  {
   "cell_type": "code",
   "execution_count": null,
   "metadata": {
    "colab": {
     "base_uri": "https://localhost:8080/"
    },
    "id": "0MKOFXJxsRmR",
    "outputId": "23b60c51-c1d4-4f40-a464-8cbe22991e0c"
   },
   "outputs": [],
   "source": [
    "print(\"Hello, World!\")"
   ]
  },
  {
   "cell_type": "markdown",
   "metadata": {},
   "source": [
    "#### EX. 1.1.2: Python If-Else"
   ]
  },
  {
   "cell_type": "markdown",
   "metadata": {},
   "source": [
    "*Given an integer, n, perform the following conditional actions:\n",
    "If n is odd, print Weird\n",
    "If n is even and in the inclusive range of 2 to 5, print Not Weird\n",
    "If n is even and in the inclusive range of 6 to 20, print Weird\n",
    "If n is even and greater than 20, print Not Weird.*"
   ]
  },
  {
   "cell_type": "code",
   "execution_count": null,
   "metadata": {},
   "outputs": [],
   "source": [
    "import math\n",
    "import os\n",
    "import random\n",
    "import re\n",
    "import sys\n",
    "\n",
    "n = int(input().strip())\n",
    "if n>=1 and n<=100:\n",
    "    if n%2!=0: #It's an odd number\n",
    "        print(\"Weird\")\n",
    "    elif n%2==0: #It's an even number\n",
    "        if n>=2 and n<=5: #even between 2 and 5\n",
    "            print(\"Not Weird\")\n",
    "        if n>=6 and n<=20: #even between 6 and 20\n",
    "            print(\"Weird\")\n",
    "        if n>20: #even major than 20\n",
    "            print(\"Not Weird\")"
   ]
  },
  {
   "cell_type": "markdown",
   "metadata": {},
   "source": [
    "#### EX. 1.1.3: Arithmetic Operators"
   ]
  },
  {
   "cell_type": "markdown",
   "metadata": {},
   "source": [
    "*The provided code stub reads two integers from STDIN, a and b. Add code to print three lines where:*\n",
    "*1: The first line contains the sum of the two numbers.*\n",
    "*2: The second line contains the difference of the two numbers (first - second).*\n",
    "*3: The third line contains the product of the two numbers.*"
   ]
  },
  {
   "cell_type": "code",
   "execution_count": null,
   "metadata": {},
   "outputs": [],
   "source": [
    "a = int(input())\n",
    "b = int(input())\n",
    "if a>=1 and a<=10**10 and b>=1 and b<=10**10: #constraints\n",
    "    print(a+b)\n",
    "    print(a-b)\n",
    "    print(a*b)"
   ]
  },
  {
   "cell_type": "markdown",
   "metadata": {},
   "source": [
    "#### EX. 1.1.4:  Python: Division"
   ]
  },
  {
   "cell_type": "markdown",
   "metadata": {},
   "source": [
    "*The provided code stub reads two integers, a and b, from STDIN.*\n",
    "*Add logic to print two lines. The first line should contain the result of integer division, a // b. The second line should contain the result of float division, a / b.*\n",
    "\n",
    "*No rounding or formatting is necessary.*"
   ]
  },
  {
   "cell_type": "code",
   "execution_count": null,
   "metadata": {},
   "outputs": [],
   "source": [
    "a = int(input())\n",
    "b = int(input())\n",
    "print(a//b) #integer division\n",
    "print(a/b) #float division"
   ]
  },
  {
   "cell_type": "markdown",
   "metadata": {},
   "source": [
    "#### EX. 1.1.5: Loops"
   ]
  },
  {
   "cell_type": "markdown",
   "metadata": {},
   "source": [
    "*The provided code stub reads and integer, n, from STDIN. For all non-negative integers i<n, print i^2.*"
   ]
  },
  {
   "cell_type": "code",
   "execution_count": null,
   "metadata": {},
   "outputs": [],
   "source": [
    "n = int(input())\n",
    "for i in range(21):\n",
    "    if i<n:\n",
    "        print(i**2)"
   ]
  },
  {
   "cell_type": "markdown",
   "metadata": {},
   "source": [
    "#### EX. 1.1.6: Write a function"
   ]
  },
  {
   "cell_type": "markdown",
   "metadata": {},
   "source": [
    "*An extra day is added to the calendar almost every four years as February 29, and the day is called a leap day. It corrects the calendar for the fact that our planet takes approximately 365.25 days to orbit the sun. A leap year contains a leap day.*\n",
    "\n",
    "*In the Gregorian calendar, three conditions are used to identify leap years:*\n",
    "\n",
    "*The year can be evenly divided by 4, is a leap year, unless:\n",
    "The year can be evenly divided by 100, it is NOT a leap year, unless:\n",
    "The year is also evenly divisible by 400. Then it is a leap year.\n",
    "This means that in the Gregorian calendar, the years 2000 and 2400 are leap years, while 1800, 1900, 2100, 2200, 2300 and 2500 are NOT leap years.*\n",
    "\n",
    "*Given a year, determine whether it is a leap year. If it is a leap year, return the Boolean True, otherwise return False.*\n",
    "\n",
    "*Note that the code stub provided reads from STDIN and passes arguments to the is_leap function. It is only necessary to complete the is_leap function.*"
   ]
  },
  {
   "cell_type": "code",
   "execution_count": null,
   "metadata": {},
   "outputs": [],
   "source": [
    "def is_leap(year):\n",
    "    leap = False\n",
    "    if year>=1900 and year<=10**5: #constraints\n",
    "        if year%4==0:\n",
    "            if year%100==0 and year%400!=0: #it's not a leap year\n",
    "                return leap\n",
    "            if year%100==0 and year%400==0: #it's a leap year\n",
    "                return True\n",
    "            else:\n",
    "                return True\n",
    "    return leap"
   ]
  },
  {
   "cell_type": "markdown",
   "metadata": {},
   "source": [
    "#### EX. 1.1.7: Print Function"
   ]
  },
  {
   "cell_type": "markdown",
   "metadata": {},
   "source": [
    "*The included code stub will read an integer, n, from STDIN.*\n",
    "*Without usiing any string methods, try to print the following:\n",
    "Note that \"...\" represents the consecutive values in between.*"
   ]
  },
  {
   "cell_type": "code",
   "execution_count": null,
   "metadata": {},
   "outputs": [],
   "source": [
    "n = int(input())\n",
    "a=[]\n",
    "if n>=1 and n<=150:\n",
    "    for i in range(n+1):\n",
    "        if i>0:\n",
    "            a.append(i)\n",
    "    s=''.join(str(j) for j in a) #I print all the list as a string\n",
    "    print(s)"
   ]
  },
  {
   "cell_type": "markdown",
   "metadata": {},
   "source": [
    "### Data types\n",
    "#### EX. 1.2.1: Finding the percentage"
   ]
  },
  {
   "cell_type": "markdown",
   "metadata": {},
   "source": [
    "*The provided code stub will read in a dictionary containing key/value pairs of name:[marks] for a list of students. Print the average of the marks array for the student name provided, showing 2 places after the decimal.*"
   ]
  },
  {
   "cell_type": "code",
   "execution_count": null,
   "metadata": {},
   "outputs": [],
   "source": [
    "import decimal\n",
    "\n",
    "n = int(input())\n",
    "student_marks = {} #dict\n",
    "for _ in range(n):\n",
    "    name, *line = input().split() #the first word is assigned to name, the rest of the words are assigned to line\n",
    "    scores = list(map(float, line))\n",
    "    student_marks[name] = scores\n",
    "query_name = input() #query_name is the name of the person whose average I want\n",
    "#decimal.Decimal is necessary to have in the output the average with decimals\n",
    "average = decimal.Decimal(sum(student_marks[query_name])/len(student_marks[query_name]))\n",
    "print(round(average, 2)) #here I use to print the average with exactly 2 decimals"
   ]
  },
  {
   "cell_type": "markdown",
   "metadata": {},
   "source": [
    "#### EX. 1.2.2: List Comprehensions"
   ]
  },
  {
   "cell_type": "markdown",
   "metadata": {},
   "source": [
    "*Let's learn about list comprehensions! You are given three integers x, y and z representing the dimensions of a cuboid along with an integer n. Print a list of all possible coordinates given by (i,j,k) on a 3D grid where the sum of i+j+k is not equal to n. Here, 0<=i<=x, 0<=j<=y, 0<=k<=z. Please use list comprehensions rather than multiple loops, as a learning exercise.*"
   ]
  },
  {
   "cell_type": "code",
   "execution_count": null,
   "metadata": {},
   "outputs": [],
   "source": [
    "x = int(input())\n",
    "y = int(input())\n",
    "z = int(input())\n",
    "n = int(input())\n",
    "b=[]\n",
    "for i in range(x+1): #I use 3 nested cicles\n",
    "    for j in range(y+1):\n",
    "        for k in range(z+1):\n",
    "            if (i+j+k)!= n:\n",
    "                b.append([i,j,k])\n",
    "print(b)"
   ]
  },
  {
   "cell_type": "markdown",
   "metadata": {},
   "source": [
    "#### EX. 1.2.3: Find the Runner-Up Score!"
   ]
  },
  {
   "cell_type": "markdown",
   "metadata": {},
   "source": [
    "*Given the participants' score sheet for your University Sports Day, you are required to find the runner-up score. You are given  n scores. Store them in a list and find the score of the runner-up.*"
   ]
  },
  {
   "cell_type": "code",
   "execution_count": null,
   "metadata": {},
   "outputs": [],
   "source": [
    "n = int(input())\n",
    "arr = map(int, input().split())\n",
    "b=[]\n",
    "if 2<=n<=10: #constraint\n",
    "    for i in arr:\n",
    "        if -100<=i<=100: #constraint\n",
    "            b.append(i)\n",
    "    c=list(set(b)) #I remove the duplicated values\n",
    "    c.remove(max(c)) #I remove the first maximum\n",
    "    print(max(c)) #Finally I print teh second maximum\n"
   ]
  },
  {
   "cell_type": "markdown",
   "metadata": {},
   "source": [
    "#### EX. 1.2.4: Nested Lists"
   ]
  },
  {
   "cell_type": "markdown",
   "metadata": {},
   "source": [
    "*Given the names and grades for each student in a class of N students, store them in a nested list and print the name(s) of any student(s) having the second lowest grade.*\n",
    "\n",
    "*Note: If there are multiple students with the second lowest grade, order their names alphabetically and print each name on a new line.*"
   ]
  },
  {
   "cell_type": "code",
   "execution_count": null,
   "metadata": {},
   "outputs": [],
   "source": [
    "list1=[]\n",
    "list2=[]\n",
    "for _ in range(int(input())):\n",
    "    name = input()\n",
    "    score = float(input())\n",
    "    #I put the names and the scores in 2 different lists\n",
    "    list1.append(name)\n",
    "    list2.append(score)\n",
    "#I create a unique list where every student has a name and a score\n",
    "records=list(zip(list1,list2))\n",
    "#I order the second list that contains the scores\n",
    "list2.sort()\n",
    "#I create a list for support without the duplicate. Then i remove the first minimun to find the second lowest score.\n",
    "c=list(set(list2)) \n",
    "c.remove(min(c))\n",
    "sec_low=min(c)\n",
    "sec_low_names =[]\n",
    "#Finally, I search the corrispondent names to the second lowest score and I put them in another list that I order alphabetically, right after, to print the names of the students.\n",
    "for i in records:\n",
    "    if sec_low==i[1]:\n",
    "        sec_low_names.append(i[0])\n",
    "sec_low_names.sort()\n",
    "for i in sec_low_names:\n",
    "    print(i)\n"
   ]
  },
  {
   "cell_type": "markdown",
   "metadata": {},
   "source": [
    "#### EX. 1.2.5: Lists"
   ]
  },
  {
   "cell_type": "markdown",
   "metadata": {},
   "source": [
    "*Consider a list (list = []). You can perform the following commands:*\n",
    "\n",
    "*insert i e: Insert integer e at position i.*\n",
    "\n",
    "*print: Print the list.*\n",
    "\n",
    "*remove e: Delete the first occurrence of integer e.*\n",
    "\n",
    "*append e: Insert integer e at the end of the list.*\n",
    "\n",
    "*sort: Sort the list.*\n",
    "\n",
    "*pop: Pop the last element from the list.*\n",
    "\n",
    "*reverse: Reverse the list.*\n",
    "\n",
    "*Initialize your list and read in the value of n followed by n lines of commands where each command will be of the 7 types listed above. Iterate through each command in order and perform the corresponding operation on your list.*"
   ]
  },
  {
   "cell_type": "code",
   "execution_count": null,
   "metadata": {},
   "outputs": [],
   "source": [
    "N = int(input()) #number of commands\n",
    "lista=[]\n",
    "\n",
    "for i in range(N):\n",
    "    command=input().split() #from input I take the name of the command and then, in the right cases (insert or append or etc..), the numbers\n",
    "    if command[0]==\"insert\":\n",
    "        lista.insert(int(command[1]), int(command[2]))\n",
    "    elif command[0]==\"print\":  \n",
    "        print(lista)\n",
    "    elif command[0]==\"remove\":\n",
    "        lista.remove(int(command[1]))\n",
    "    elif command[0]==\"append\":  \n",
    "        lista.append(int(command[1]))\n",
    "    elif command[0]==\"sort\": \n",
    "        lista.sort()\n",
    "    elif command[0]==\"pop\":\n",
    "        lista.pop()\n",
    "    elif command[0]==\"reverse\":\n",
    "        lista.reverse()"
   ]
  },
  {
   "cell_type": "markdown",
   "metadata": {},
   "source": [
    "#### EX. 1.2.6: Tuples"
   ]
  },
  {
   "cell_type": "markdown",
   "metadata": {},
   "source": [
    "*Given an integer, n, and n space-separated integers as input, create a tuple, t, of those n integers. Then compute and print the result of hash(t).*\n",
    "\n",
    "*Note: hash() is one of the functions in the __builtins__ module, so it need not be imported.*"
   ]
  },
  {
   "cell_type": "code",
   "execution_count": null,
   "metadata": {},
   "outputs": [],
   "source": [
    "n = int(input())\n",
    "integer_list = map(int, input().split())\n",
    "t=tuple(integer_list) #I put them in tuple\n",
    "print(hash(t)) #print he hash value of the tuple"
   ]
  },
  {
   "cell_type": "markdown",
   "metadata": {},
   "source": [
    "### Strings\n",
    "#### EX. 1.3.1: Text Alignment"
   ]
  },
  {
   "cell_type": "markdown",
   "metadata": {},
   "source": [
    "*You are given a partial code that is used for generating the HackerRank Logo of variable thickness.\n",
    "Your task is to replace the blank (______) with rjust, ljust or center.*"
   ]
  },
  {
   "cell_type": "code",
   "execution_count": null,
   "metadata": {},
   "outputs": [],
   "source": [
    "#For this excercise I took the code from the official site and then tried to understand it:\n",
    "#https://www.hackerrank.com/challenges/text-alignment/forum\n",
    "#Using for the first time python, I couldn't reach this solution by my own.\n",
    "\n",
    "H = int(input()) #here I take from input the number of letters H\n",
    "width = (H*2)-1 #because in the part of the arrows I have odd number of H\n",
    "heads = []\n",
    "for i in range(1, H+1): #I need at least 1 H\n",
    "    string = (\"H\"*i*2)\n",
    "    print(string[:-1].center(width,' ').rstrip(' ')) #rstrip() remove any white spaces at the end of the string\n",
    "    heads.append(string[:-1].center(width,' '))\n",
    "\n",
    "body = [((H+1)*2)//2+x for x in range(1,H//2+2)] # // division because I want an integer\n",
    "body_height = (H+1)*2+len(body)\n",
    "lrgap = len(heads[-1])-H\n",
    "for i in range(1, body_height+1):\n",
    "    lstr = (\"H\"*H).center(len(heads[-1])).rstrip(\" \")\n",
    "    if i not in body:\n",
    "        mstr = lstr +  \" \"*H*3 + lstr.lstrip(\" \")\n",
    "        print(mstr.rstrip(' '))\n",
    "    else:\n",
    "        print((lstr+\"H\"*H*3+lstr.lstrip(\" \")).rstrip(' ')) #l.strip() remove spaces to the left of the string:\n",
    "\n",
    "body_width = H*H\n",
    "for i in heads[::-1]:\n",
    "    print(i.rjust(len(mstr)+int(lrgap/2), \" \").rstrip(\" \"))"
   ]
  },
  {
   "cell_type": "markdown",
   "metadata": {},
   "source": [
    "#### EX. 1.3.2: sWAP cASE"
   ]
  },
  {
   "cell_type": "markdown",
   "metadata": {},
   "source": [
    "*You are given a string and your task is to swap cases. In other words, convert all lowercase letters to uppercase letters and vice versa.*"
   ]
  },
  {
   "cell_type": "code",
   "execution_count": null,
   "metadata": {},
   "outputs": [],
   "source": [
    "lenght=len(s)\n",
    "p=[]\n",
    "if 0<lenght<=1000:\n",
    "    for i in s:\n",
    "        if i.isupper()==False:\n",
    "            p.append(i.upper()) #I transform the character in upper carac.\n",
    "        else:\n",
    "            p.append(i.lower()) #I transform the character in lower carac.\n",
    "    separator=\"\"\n",
    "    new=separator.join(p)\n",
    "    return new"
   ]
  },
  {
   "cell_type": "markdown",
   "metadata": {},
   "source": [
    "#### EX. 1.3.3: String Split and Join"
   ]
  },
  {
   "cell_type": "markdown",
   "metadata": {},
   "source": [
    "*You are given a string. Split the string on a \" \" (space) delimiter and join using a - hyphen.*"
   ]
  },
  {
   "cell_type": "code",
   "execution_count": null,
   "metadata": {},
   "outputs": [],
   "source": [
    "def split_and_join(line):\n",
    "    line=line.split(\" \") #I split the string with a space\n",
    "    new=\"-\".join(line) #I return the string with - and not spaces\n",
    "    return(new)\n",
    "\n",
    "line = input()\n",
    "result = split_and_join(line)\n",
    "print(result)"
   ]
  },
  {
   "cell_type": "markdown",
   "metadata": {},
   "source": [
    "#### EX. 1.3.4: What's Your Name?"
   ]
  },
  {
   "cell_type": "markdown",
   "metadata": {},
   "source": [
    "*You are given the firstname and lastname of a person on two different lines. Your task is to read them and print the following:*\n",
    "*Hello firstname lastname! You just delved into python.*"
   ]
  },
  {
   "cell_type": "code",
   "execution_count": null,
   "metadata": {},
   "outputs": [],
   "source": [
    "#\n",
    "# Complete the 'print_full_name' function below.\n",
    "#\n",
    "# The function is expected to return a STRING.\n",
    "# The function accepts following parameters:\n",
    "#  1. STRING first\n",
    "#  2. STRING last\n",
    "#\n",
    "\n",
    "def print_full_name(first, last):\n",
    "    p=[]\n",
    "    a=\"Hello\"\n",
    "    b=\"!\"\n",
    "    c=\"You just delved into python.\"\n",
    "    last_b=[]\n",
    "    last_b.append(last)\n",
    "    last_b.append(b)\n",
    "    last_b=\"\".join(last_b)\n",
    "    p.append(a)\n",
    "    p.append(first)\n",
    "    p.append(last_b)\n",
    "    p.append(c)\n",
    "    new=\" \".join(p) #I print all the words together with just a space separating\n",
    "    print(new)"
   ]
  },
  {
   "cell_type": "markdown",
   "metadata": {},
   "source": [
    "#### EX. 1.3.5: Mutations"
   ]
  },
  {
   "cell_type": "markdown",
   "metadata": {},
   "source": [
    "*We have seen that lists are mutable (they can be changed), and tuples are immutable (they cannot be changed).*\n",
    "\n",
    "*Let's try to understand this with an example.*\n",
    "\n",
    "*You are given an immutable string, and you want to make changes to it.*"
   ]
  },
  {
   "cell_type": "code",
   "execution_count": null,
   "metadata": {},
   "outputs": [],
   "source": [
    "def mutate_string(string, position, character):\n",
    "    list_string=list(string)\n",
    "    list_string[position]=character #I do the changes in the vcertain -position- of the list, putting this character\n",
    "    string=\"\".join(list_string) #I print the list with all the characters together\n",
    "    return string"
   ]
  },
  {
   "cell_type": "markdown",
   "metadata": {},
   "source": [
    "#### EX. 1.3.6: Find a string"
   ]
  },
  {
   "cell_type": "markdown",
   "metadata": {},
   "source": [
    "*In this challenge, the user enters a string and a substring. You have to print the number of times that the substring occurs in the given string. String traversal will take place from left to right, not from right to left.\n",
    "\n",
    "NOTE: String letters are case-sensitive.*"
   ]
  },
  {
   "cell_type": "code",
   "execution_count": null,
   "metadata": {},
   "outputs": [],
   "source": [
    "def count_substring(string, sub_string):\n",
    "    if 1<=len(string)<=200:\n",
    "        c=0\n",
    "        for i in range(0, len(string)):\n",
    "            if string[i:(len(sub_string)+i)]==sub_string: #I take the sub-string\n",
    "                c=c+1 #counting the number of sub-string\n",
    "        return c"
   ]
  },
  {
   "cell_type": "markdown",
   "metadata": {},
   "source": [
    "#### EX. 1.3.7: String Validators"
   ]
  },
  {
   "cell_type": "markdown",
   "metadata": {},
   "source": [
    "*You are given a string S.\n",
    "Your task is to find out if the string S contains: alphanumeric characters, alphabetical characters, digits, lowercase and uppercase characters.*"
   ]
  },
  {
   "cell_type": "code",
   "execution_count": null,
   "metadata": {},
   "outputs": [],
   "source": [
    "s = input()\n",
    "p=0\n",
    "j=0\n",
    "h=0\n",
    "k=0\n",
    "m=0\n",
    "if 0<len(s)<1000:\n",
    "    for i in s:\n",
    "        if i.isalnum()==True: #alphanumeric characters\n",
    "            p=p+1 #counting alphanumeric characters\n",
    "        else:\n",
    "            p=p\n",
    "    if p>0:\n",
    "        print(\"True\")\n",
    "    else:\n",
    "        print(\"False\")\n",
    "    for i in s:\n",
    "        if i.isalpha()==True: #alphabetical characters\n",
    "            j=j+1 #counting alphabetical characters\n",
    "        else:\n",
    "            j=j\n",
    "    if j>0:\n",
    "        print(\"True\")\n",
    "    else:\n",
    "        print(\"False\")\n",
    "    for i in s:\n",
    "        if i.isdigit()==True: #digits\n",
    "            h=h+1 #counting digits\n",
    "        else:\n",
    "            h=h\n",
    "    if h>0:\n",
    "        print(\"True\")\n",
    "    else:\n",
    "        print(\"False\")\n",
    "    for i in s:\n",
    "        if i.islower()==True: #lowercase characters\n",
    "            k=k+1 #counting lowercase characters\n",
    "        else:\n",
    "            k=k\n",
    "    if k>0:\n",
    "        print(\"True\")\n",
    "    else:\n",
    "        print(\"False\")\n",
    "    for i in s:\n",
    "        if i.isupper()==True: #uppercase characters\n",
    "            m=m+1 #counting uppercase characters\n",
    "        else:\n",
    "            m=m\n",
    "    if m>0:\n",
    "        print(\"True\")\n",
    "    else:\n",
    "        print(\"False\")"
   ]
  },
  {
   "cell_type": "markdown",
   "metadata": {},
   "source": [
    "#### EX. 1.3.8: Text Wrap"
   ]
  },
  {
   "cell_type": "markdown",
   "metadata": {},
   "source": [
    "*You are given a string S and width w.\n",
    "Your task is to wrap the string into a paragraph of width w.*"
   ]
  },
  {
   "cell_type": "code",
   "execution_count": null,
   "metadata": {},
   "outputs": [],
   "source": [
    "def wrap(string, max_width):\n",
    "    for i in range(0,len(string)+1, max_width):\n",
    "        new=string[i:(i+max_width)]\n",
    "        if len(new)==max_width:\n",
    "            print(new) #I print the new string with a width w\n",
    "        else:\n",
    "            return(new)"
   ]
  },
  {
   "cell_type": "markdown",
   "metadata": {},
   "source": [
    "#### EX. 1.3.9: Designer Door Mat"
   ]
  },
  {
   "cell_type": "markdown",
   "metadata": {},
   "source": [
    "*Mr. Vincent works in a door mat manufacturing company. One day, he designed a new door mat with the following specifications:\n",
    "\n",
    "Mat size must be NxM. (N is an odd natural number, and M is 3 times N.)\n",
    "The design should have 'WELCOME' written in the center.\n",
    "The design pattern should only use |, . and - characters.*"
   ]
  },
  {
   "cell_type": "code",
   "execution_count": null,
   "metadata": {},
   "outputs": [],
   "source": [
    "#For this excercise I took the code from the official site and then tried to understand it:\n",
    "#https://www.hackerrank.com/challenges/designer-door-mat/forum\n",
    "\n",
    "N, M = map(int, input().split())\n",
    "\n",
    "pattern = \".|.\"\n",
    "for i in range(1, N, 2): #2 is the number of step between from=1 and to=N (not included) of the range\n",
    "    print((i * pattern).center(M, \"-\"))\n",
    "\n",
    "print(\"WELCOME\".center(M, \"-\"))\n",
    "\n",
    "for i in range(N - 2, 0, -2): #-2 is the number of step between from=N-2 and to=0 (not included) of the range\n",
    "    print((i * pattern).center(M, \"-\"))"
   ]
  },
  {
   "cell_type": "markdown",
   "metadata": {},
   "source": [
    "#### EX. 1.3.10: String Formatting"
   ]
  },
  {
   "cell_type": "markdown",
   "metadata": {},
   "source": [
    "*Given an integer, n, print the following values for each integer i from 1 to n:*\n",
    "\n",
    "*1- Decimal*\n",
    "\n",
    "*2- Octal*\n",
    "\n",
    "*3- Hexadecimal (capitalized)*\n",
    "\n",
    "*4- Binary*"
   ]
  },
  {
   "cell_type": "code",
   "execution_count": null,
   "metadata": {},
   "outputs": [],
   "source": [
    "def print_formatted(number):\n",
    "    width=len(bin(number)[2:]) #bin() ha the prefix 0b\n",
    "    for j in range(1,number+1):\n",
    "        decimal=str(j)\n",
    "        octal=oct(j)[2:] #oct() ha the prefix 0o\n",
    "        hexadec=hex(j)[2:].upper() #hex() has the prefix 0x\n",
    "        binary=bin(j)[2:]\n",
    "        #rjust right aligns the string with the specific width\n",
    "        print(decimal.rjust(width), octal.rjust(width), hexadec.rjust(width), binary.rjust(width))"
   ]
  },
  {
   "cell_type": "markdown",
   "metadata": {},
   "source": [
    "#### EX. 1.3.11: Alphabet Rangoli"
   ]
  },
  {
   "cell_type": "markdown",
   "metadata": {},
   "source": [
    "*You are given an integer, N. Your task is to print an alphabet rangoli of size N. (Rangoli is a form of Indian folk art based on creation of patterns.)*\n",
    "\n",
    "*Different sizes of alphabet rangoli are shown below:*\n",
    "\n",
    "#size 3\n",
    "\n",
    "----c----\n",
    "\n",
    "--c-b-c--\n",
    "\n",
    "c-b-a-b-c\n",
    "\n",
    "--c-b-c--\n",
    "\n",
    "----c----\n"
   ]
  },
  {
   "cell_type": "code",
   "execution_count": null,
   "metadata": {},
   "outputs": [],
   "source": [
    "#For this excercise I took the code from the official site and then tried to understand it:\n",
    "#https://www.hackerrank.com/challenges/alphabet-rangoli/forum\n",
    "\n",
    "def print_rangoli(size):\n",
    "    #I write the letters of the alphabet\n",
    "    str1=\"a-b-c-d-e-f-g-h-i-j-k-l-m-n-o-p-q-r-s-t-u-v-w-x-y-z-\"\n",
    "    #str2 it's the string in the center of the rangolo \n",
    "    str2=str1[:size*2]\n",
    "    for i in range(size*2-2, -1, -2): #the step is equal to -2 --> reverse\n",
    "        f=str2[i+1:][::-1]+str2[i:]\n",
    "        print(f[1:-1].center((size-1)*4+1, \"-\"))\n",
    "    for i in range(2, size*2, 2): #the step is equal to 2\n",
    "        f=str2[i+1:][::-1]+str2[i:]\n",
    "        print(f[1:-1].center((size-1)*4+1, \"-\"))\n",
    "\n",
    "if __name__ == '__main__':\n",
    "    n = int(input())\n",
    "    print_rangoli(n)"
   ]
  },
  {
   "cell_type": "markdown",
   "metadata": {},
   "source": [
    "#### EX. 1.3.12: Capitalize!"
   ]
  },
  {
   "cell_type": "markdown",
   "metadata": {},
   "source": [
    "*You are asked to ensure that the first and last names of people begin with a capital letter in their passports. For example, alison heck should be capitalised correctly as Alison Heck.*\n",
    "\n",
    "\n",
    "*Given a full name, your task is to capitalize the name appropriately.*"
   ]
  },
  {
   "cell_type": "code",
   "execution_count": null,
   "metadata": {},
   "outputs": [],
   "source": [
    "# Complete the solve function below.\n",
    "def solve(s):\n",
    "    if 0<len(s)<1000:\n",
    "        for i in s.split():\n",
    "            s= s.replace(i,i.capitalize()) #I use the function capitalize() to change i in the capital letter\n",
    "        return s\n"
   ]
  },
  {
   "cell_type": "markdown",
   "metadata": {},
   "source": [
    "#### EX. 1.3.13: The Minion Game!"
   ]
  },
  {
   "cell_type": "markdown",
   "metadata": {},
   "source": [
    "*Kevin and Stuart want to play the 'The Minion Game'.*\n",
    "\n",
    "*Game Rules*\n",
    "\n",
    "*Both players are given the same string, S.\n",
    "Both players have to make substrings using the letters of the string S.\n",
    "Stuart has to make words starting with consonants.\n",
    "Kevin has to make words starting with vowels.\n",
    "The game ends when both players have made all possible substrings.*\n",
    "\n",
    "*Scoring\n",
    "A player gets +1 point for each occurrence of the substring in the string S.\n",
    "Your task is to determine the winner of the game and their score.*"
   ]
  },
  {
   "cell_type": "code",
   "execution_count": null,
   "metadata": {},
   "outputs": [],
   "source": [
    "#For this excercise I took the code from the official site and then tried to understand it:\n",
    "#https://www.hackerrank.com/challenges/the-minion-game/forum\n",
    "\n",
    "def minion_game(string):\n",
    "    stuart = 0\n",
    "    kevin = 0\n",
    "\n",
    "    for i in range(len(string)):\n",
    "        if string[i] in \"AEIOU\": #if  the letter is a vowel\n",
    "            kevin = kevin + len(string)-i #Kevin has to make words starting with vowels.\n",
    "        else:\n",
    "            stuart = stuart + len(string)-i #Stuart has to make words starting with consonants.\n",
    "                \n",
    "    if stuart > kevin:\n",
    "        print(f\"Stuart {stuart}\") #Inside the {} I have the corrispondent point that was counted in the for cicle before\n",
    "    elif stuart < kevin:\n",
    "        print(f\"Kevin {kevin}\")\n",
    "    else:\n",
    "        print(\"Draw\")\n",
    "\n",
    "s = input()\n",
    "minion_game(s)"
   ]
  },
  {
   "cell_type": "markdown",
   "metadata": {},
   "source": [
    "#### EX. 1.3.14: Merge the Tools!"
   ]
  },
  {
   "cell_type": "markdown",
   "metadata": {},
   "source": [
    "*Consider the following:*\n",
    "\n",
    "*A string, s, of length n where s=c_0*c_1*c_(n-1).\n",
    "An integer, k, where k is a factor of n.\n",
    "We can split s into n/k substrings where each subtring, t_i, consists of a contiguous block of k characters in s. Then, use each t_i to create string u_i such that:*\n",
    "\n",
    "*The characters in u_i are a subsequence of the characters in t_i.\n",
    "Any repeat occurrence of a character is removed from the string such that each character in u_i occurs exactly once. In other words, if the character at some index j in t_i occurs at a previous index <j in t_i, then do not include the character in string u_i.\n",
    "Given s and k, print n/k lines where each line i denotes string u_i.*"
   ]
  },
  {
   "cell_type": "code",
   "execution_count": null,
   "metadata": {},
   "outputs": [],
   "source": [
    "def merge_the_tools(string, k):\n",
    "    n=len(string)\n",
    "    for i in range(0, n, k):\n",
    "        p=string[i:i+k] #I take the sub-string\n",
    "        x=\"\".join(set(p)) #I print the string without the duplicate letters\n",
    "        print(x)\n",
    "\n",
    "string, k = input(), int(input())\n",
    "merge_the_tools(string, k)"
   ]
  },
  {
   "cell_type": "markdown",
   "metadata": {},
   "source": [
    "### Sets\n",
    "#### EX. 1.4.1: Set .discard(), .remove() & .pop()"
   ]
  },
  {
   "cell_type": "markdown",
   "metadata": {},
   "source": [
    "*You have a non-empty set s, and you have to execute N commands given in N lines.*\n",
    "\n",
    "*The commands will be pop, remove and discard.*"
   ]
  },
  {
   "cell_type": "code",
   "execution_count": null,
   "metadata": {},
   "outputs": [],
   "source": [
    "#This code acyually doesn't work\n",
    "n=int(input())\n",
    "s=set(map(int, input().split()))\n",
    "N=int(input())\n",
    "for i in range(N):\n",
    "    command=list(map(str, input().split())) \n",
    "    \n",
    "for i in command: #from input I take the name of the command and then, in the right cases (pop, remove or descard), the numbers\n",
    "    if i[0]==\"pop\":\n",
    "        s.pop()\n",
    "    elif i[0]==\"discard\":\n",
    "        s.discard(int(i[1]))\n",
    "    elif i[0]==\"remove\":\n",
    "        s.remove(int(i[1]))\n",
    "        \n",
    "print(sum(list(s)))"
   ]
  },
  {
   "cell_type": "markdown",
   "metadata": {},
   "source": [
    "#### EX. 1.4.2: Introduction to Sets"
   ]
  },
  {
   "cell_type": "markdown",
   "metadata": {},
   "source": [
    "*A set is an unordered collection of elements without duplicate entries.\n",
    "When printed, iterated or converted into a sequence, its elements will appear in an arbitrary order.*"
   ]
  },
  {
   "cell_type": "code",
   "execution_count": null,
   "metadata": {},
   "outputs": [],
   "source": [
    "def average(array):\n",
    "    a=set(array)\n",
    "    n=len(a) #lenght of the set a\n",
    "    media=sum(a)/n\n",
    "    return media\n",
    "\n",
    "n = int(input())\n",
    "arr = list(map(int, input().split()))\n",
    "result = average(arr)\n",
    "print(result)"
   ]
  },
  {
   "cell_type": "markdown",
   "metadata": {},
   "source": [
    "#### EX. 1.4.3: No Idea!"
   ]
  },
  {
   "cell_type": "markdown",
   "metadata": {},
   "source": [
    "*There is an array of n integers. There are also 2 disjoint sets, A and B, each containing m integers. You like all the integers in set A and dislike all the integers in set B. Your initial happiness is 0. For each i integer in the array, if i belongs to A, you add 1 to your happiness. If i belongs to B, you add -1 to your happiness. Otherwise, your happiness does not change. Output your final happiness at the end.\n",
    "\n",
    "Note: Since  and  are sets, they have no repeated elements. However, the array might contain duplicate elements.*"
   ]
  },
  {
   "cell_type": "code",
   "execution_count": null,
   "metadata": {},
   "outputs": [],
   "source": [
    "# Enter your code here. Read input from STDIN. Print output to STDOUT\n",
    "n, m=input().split()\n",
    "a=list(input().split())\n",
    "A = set(list(input().split()))\n",
    "B = set(list(input().split()))\n",
    "j=0\n",
    "for i in a:\n",
    "    if i in A: #if i belongs to A, I add 1 to happiness\n",
    "        j=j+1\n",
    "    if i in B: #if i belongs to B, I add -1 to happiness\n",
    "        j=j-1\n",
    "print(j)\n"
   ]
  },
  {
   "cell_type": "markdown",
   "metadata": {},
   "source": [
    "#### EX. 1.4.4: Symmetric Difference"
   ]
  },
  {
   "cell_type": "markdown",
   "metadata": {},
   "source": [
    "*Given 2 sets of integers, M and N, print their symmetric difference in ascending order. The term symmetric difference indicates those values that exist in either M or N but do not exist in both.*"
   ]
  },
  {
   "cell_type": "code",
   "execution_count": null,
   "metadata": {},
   "outputs": [],
   "source": [
    "M = int(input())\n",
    "first = set(map(int, input().split(' ')))\n",
    "\n",
    "N = int(input())\n",
    "second=set(map(int, input().split(' ')))\n",
    "\n",
    "diff1=first.difference(second) #first - second\n",
    "diff2=second.difference(first) #second - first\n",
    "diff=list(diff1.union(diff2)) #union of the two differences' set\n",
    "diff.sort()\n",
    "for i in diff:\n",
    "    print(i)\n"
   ]
  },
  {
   "cell_type": "markdown",
   "metadata": {},
   "source": [
    "#### EX. 1.4.5: Set .add()"
   ]
  },
  {
   "cell_type": "markdown",
   "metadata": {},
   "source": [
    "*Apply your knowledge of the .add() operation to help your friend Rupal.*\n",
    "\n",
    "*Rupal has a huge collection of country stamps. She decided to count the total number of distinct country stamps in her collection. She asked for your help. You pick the stamps one by one from a stack of N country stamps.*\n",
    "\n",
    "*Find the total number of distinct country stamps.*"
   ]
  },
  {
   "cell_type": "code",
   "execution_count": null,
   "metadata": {},
   "outputs": [],
   "source": [
    "N=int(input())\n",
    "b=set()\n",
    "for i in range(N):\n",
    "    b.add(input())\n",
    "print(len(b))"
   ]
  },
  {
   "cell_type": "markdown",
   "metadata": {},
   "source": [
    "#### EX. 1.4.6: Set .union() Operation"
   ]
  },
  {
   "cell_type": "markdown",
   "metadata": {},
   "source": [
    "*The students of District College have subscriptions to English and French newspapers. Some students have subscribed only to English, some have subscribed to only French and some have subscribed to both newspapers.*\n",
    "\n",
    "*You are given two sets of student roll numbers. One set has subscribed to the English newspaper, and the other set is subscribed to the French newspaper. The same student could be in both sets. Your task is to find the total number of students who have subscribed to at least one newspaper.*"
   ]
  },
  {
   "cell_type": "code",
   "execution_count": null,
   "metadata": {},
   "outputs": [],
   "source": [
    "n=int(input())\n",
    "stud_E=set(map(int, input().split(' ')))\n",
    "b=int(input())\n",
    "stud_F=set(map(int, input().split(' ')))\n",
    "u = stud_E.union(stud_F)\n",
    "print(len(u))"
   ]
  },
  {
   "cell_type": "markdown",
   "metadata": {},
   "source": [
    "#### EX. 1.4.7: Set .intersection() Operation"
   ]
  },
  {
   "cell_type": "markdown",
   "metadata": {},
   "source": [
    "*The students of District College have subscriptions to English and French newspapers. Some students have subscribed only to English, some have subscribed only to French, and some have subscribed to both newspapers.*\n",
    "\n",
    "*You are given two sets of student roll numbers. One set has subscribed to the English newspaper, one set has subscribed to the French newspaper. Your task is to find the total number of students who have subscribed to both newspapers.*"
   ]
  },
  {
   "cell_type": "code",
   "execution_count": null,
   "metadata": {},
   "outputs": [],
   "source": [
    "n=int(input())\n",
    "stud_E=set(map(int, input().split(' ')))\n",
    "b=int(input())\n",
    "stud_F=set(map(int, input().split(' ')))\n",
    "i=stud_E.intersection(stud_F)\n",
    "print(len(i))"
   ]
  },
  {
   "cell_type": "markdown",
   "metadata": {},
   "source": [
    "#### EX. 1.4.8: Set .difference() Operation"
   ]
  },
  {
   "cell_type": "markdown",
   "metadata": {},
   "source": [
    "*Students of District College have a subscription to English and French newspapers. Some students have subscribed to only the English newspaper, some have subscribed to only the French newspaper, and some have subscribed to both newspapers.*\n",
    "\n",
    "*You are given two sets of student roll numbers. One set has subscribed to the English newspaper, and one set has subscribed to the French newspaper. Your task is to find the total number of students who have subscribed to only English newspapers.*"
   ]
  },
  {
   "cell_type": "code",
   "execution_count": null,
   "metadata": {},
   "outputs": [],
   "source": [
    "n=int(input())\n",
    "stud_E=set(map(int, input().split(' ')))\n",
    "b=int(input())\n",
    "stud_F=set(map(int, input().split(' ')))\n",
    "d=stud_E.difference(stud_F)\n",
    "print(len(d))"
   ]
  },
  {
   "cell_type": "markdown",
   "metadata": {},
   "source": [
    "#### EX. 1.4.9: Set .symmetric_difference() Operation"
   ]
  },
  {
   "cell_type": "markdown",
   "metadata": {},
   "source": [
    "*Students of District College have subscriptions to English and French newspapers. Some students have subscribed to English only, some have subscribed to French only, and some have subscribed to both newspapers.*\n",
    "\n",
    "*You are given two sets of student roll numbers. One set has subscribed to the English newspaper, and one set has subscribed to the French newspaper. Your task is to find the total number of students who have subscribed to either the English or the French newspaper but not both.*"
   ]
  },
  {
   "cell_type": "code",
   "execution_count": null,
   "metadata": {},
   "outputs": [],
   "source": [
    "n=int(input())\n",
    "stud_E=set(map(int, input().split(' ')))\n",
    "b=int(input())\n",
    "stud_F=set(map(int, input().split(' ')))\n",
    "d1=stud_E.difference(stud_F) #(students of English) - (students of French)\n",
    "d2=stud_F.difference(stud_E) #(students of French) - (students of English)\n",
    "d=d1.union(d2)\n",
    "print(len(d))"
   ]
  },
  {
   "cell_type": "markdown",
   "metadata": {},
   "source": [
    "#### EX. 1.4.10: Set Mutations"
   ]
  },
  {
   "cell_type": "markdown",
   "metadata": {},
   "source": [
    "*You are given a set A and N number of other sets. These N number of sets have to perform some specific mutation operations on set A.*\n",
    "\n",
    "*Your task is to execute those operations and print the sum of elements from set A.*"
   ]
  },
  {
   "cell_type": "code",
   "execution_count": null,
   "metadata": {},
   "outputs": [],
   "source": [
    "n=int(input())\n",
    "A=set(map(int, input().split(' ')))\n",
    "N=int(input())\n",
    "for i in range(N):\n",
    "    command=input().split() #from input I take the name of the command and then, in the right cases, the numbers\n",
    "    if command[0]==\"update\":\n",
    "        A.update(set(map(int, input().split())))\n",
    "    if command[0]==\"intersection_update\":\n",
    "        A.intersection_update(set(map(int, input().split())))\n",
    "    if command[0]==\"difference_update\":\n",
    "        A.difference_update(set(map(int, input().split())))\n",
    "    if command[0]==\"symmetric_difference_update\":\n",
    "        A.symmetric_difference_update(set(map(int, input().split())))\n",
    "print(sum(A))"
   ]
  },
  {
   "cell_type": "markdown",
   "metadata": {},
   "source": [
    "#### EX. 1.4.11: The Captain's Room"
   ]
  },
  {
   "cell_type": "markdown",
   "metadata": {},
   "source": [
    "*Mr. Anant Asankhya is the manager at the INFINITE hotel. The hotel has an infinite amount of rooms.*\n",
    "\n",
    "*One fine day, a finite number of tourists come to stay at the hotel.\n",
    "The tourists consist of:\n",
    "\n",
    "→ A Captain.\n",
    "\n",
    "→ An unknown group of families consisting of K members per group where K ≠ 1.*\n",
    "\n",
    "*The Captain was given a separate room, and the rest were given one room per group.*\n",
    "\n",
    "*Mr. Anant has an unordered list of randomly arranged room entries. The list consists of the room numbers for all of the tourists. The room numbers will appear K times per group except for the Captain's room.*\n",
    "\n",
    "*Mr. Anant needs you to help him find the Captain's room number.\n",
    "The total number of tourists or the total number of groups of families is not known to you.\n",
    "You only know the value of K and the room number list.*"
   ]
  },
  {
   "cell_type": "code",
   "execution_count": null,
   "metadata": {},
   "outputs": [],
   "source": [
    "#This code doesn't work but I can't find the error\n",
    "K=int(input())\n",
    "#I took the solution from google because I didn't understand how to solve it with a cicle for incrementing an index.\n",
    "list_room= input().split()\n",
    "set_room=set(list_room)\n",
    "#I remove every element of the set_room (without duplicates) from the list_room.\n",
    "for i in list(set_room):\n",
    "    list_room.remove(i)\n",
    "#I make the difference between the set_room and the set of list_room after the changes of before. I don't understand why I need to remove the last element with pop().\n",
    "captain_room=set_room.difference(set(list_room)).pop()\n",
    "print(captain_room)"
   ]
  },
  {
   "cell_type": "markdown",
   "metadata": {},
   "source": [
    "#### EX. 1.4.12: Check Subset"
   ]
  },
  {
   "cell_type": "markdown",
   "metadata": {},
   "source": [
    "*You are given two sets, A and B.\n",
    "Your job is to find whether set  is a subset of set .\n",
    "\n",
    "If set A is subset of set B, print True.\n",
    "If set A is not a subset of set B, print False.*"
   ]
  },
  {
   "cell_type": "code",
   "execution_count": null,
   "metadata": {},
   "outputs": [],
   "source": [
    "T=int(input())\n",
    "if 0<T<21: #Constraints: 0<T<21\n",
    "    for i in range(T):\n",
    "        n=int(input())\n",
    "        A=set(input().split())\n",
    "        m=int(input())\n",
    "        B=set(input().split())\n",
    "        \n",
    "        if 0<n<1001:\n",
    "            if 0<m<1001:\n",
    "                print(A.issubset(B)) #I verify if A is a subset of B"
   ]
  },
  {
   "cell_type": "markdown",
   "metadata": {},
   "source": [
    "#### EX. 1.4.13: Check Strict Superset"
   ]
  },
  {
   "cell_type": "markdown",
   "metadata": {},
   "source": [
    "*You are given a set A and n other sets.\n",
    "Your job is to find whether set A is a strict superset of each of the N sets.*\n",
    "\n",
    "*Print True, if A is a strict superset of each of the N sets. Otherwise, print False.*\n",
    "\n",
    "*A strict superset has at least one element that does not exist in its subset.*"
   ]
  },
  {
   "cell_type": "code",
   "execution_count": null,
   "metadata": {},
   "outputs": [],
   "source": [
    "A=set(input().split())\n",
    "n=int(input())\n",
    "for i in range(n):\n",
    "    b=set(input().split())\n",
    "    if A.issuperset(b): #I verify if A is a superset of b\n",
    "        print(\"True\")\n",
    "        break\n",
    "    else:\n",
    "        print(\"False\")\n",
    "        break"
   ]
  },
  {
   "cell_type": "markdown",
   "metadata": {},
   "source": [
    "### Collections \n",
    "#### EX. 1.5.1: Collections.deque()"
   ]
  },
  {
   "cell_type": "markdown",
   "metadata": {},
   "source": [
    "*Perform append, pop, popleft and appendleft methods on an empty deque d.*"
   ]
  },
  {
   "cell_type": "code",
   "execution_count": null,
   "metadata": {},
   "outputs": [],
   "source": [
    "from collections import deque\n",
    "N=int(input())\n",
    "d=deque()\n",
    "\n",
    "for i in range(N): #from input I take the name of the command and then, in the right cases, the numbers\n",
    "    command=input().split()\n",
    "    \n",
    "    if command[0]==\"append\":\n",
    "        d.append(command[1])\n",
    "    if command[0]==\"appendleft\":\n",
    "        d.appendleft(command[1])\n",
    "    if command[0]==\"clear\":\n",
    "        d.clear()\n",
    "    if command[0]==\"extend\":\n",
    "        d.extend(command[1])\n",
    "    if command[0]==\"extendleft\":\n",
    "        d.extendleft(command[1])\n",
    "    if command[0]==\"pop\":\n",
    "        d.pop()\n",
    "    if command[0]==\"popleft\":\n",
    "        d.popleft()\n",
    "    if command[0]==\"remove\":\n",
    "        d.remove(command[1])\n",
    "\n",
    "print(\" \".join(list(d)))"
   ]
  },
  {
   "cell_type": "markdown",
   "metadata": {},
   "source": [
    "#### EX. 1.5.2: collections.Counter()"
   ]
  },
  {
   "cell_type": "markdown",
   "metadata": {},
   "source": [
    "*Raghu is a shoe shop owner. His shop has X number of shoes.\n",
    "He has a list containing the size of each shoe he has in his shop.\n",
    "There are N number of customers who are willing to pay x_i amount of money only if they get the shoe of their desired size.*\n",
    "\n",
    "*Your task is to compute how much money Raghu earned.*"
   ]
  },
  {
   "cell_type": "code",
   "execution_count": null,
   "metadata": {},
   "outputs": [],
   "source": [
    "from collections import Counter\n",
    "\n",
    "X=int(input())\n",
    "shoes=Counter(map(int,input().split()))\n",
    "N=int(input())\n",
    "j=0\n",
    "for i in range(N):\n",
    "    sizes, prices=map(int,input().split())\n",
    "    #From the solution I took the condition \"if shoes[sizes]:\" and the passage shoes[sizes]=shoes[sizes]-1. \n",
    "    #I don't get completely the meaning of this part. In my solution I just icremented the index j and added every price.\n",
    "    if shoes[sizes]:\n",
    "        j=j+prices\n",
    "        shoes[sizes]=shoes[sizes]-1\n",
    "print(j)"
   ]
  },
  {
   "cell_type": "markdown",
   "metadata": {},
   "source": [
    "#### EX. 1.5.3: DefaultDict Tutorial"
   ]
  },
  {
   "cell_type": "markdown",
   "metadata": {},
   "source": [
    "*The defaultdict tool is a container in the collections class of Python. It's similar to the usual dictionary (dict) container, but the only difference is that a defaultdict will have a default value if that key has not been set yet. If you didn't use a defaultdict you'd have to check to see if that key exists, and if it doesn't, set it to what you want.*"
   ]
  },
  {
   "cell_type": "code",
   "execution_count": null,
   "metadata": {},
   "outputs": [],
   "source": [
    "#For this excercise I was helped for 2 parts by the solution from the official site:\n",
    "#https://www.hackerrank.com/challenges/defaultdict-tutorial/forum\n",
    "\n",
    "from collections import defaultdict\n",
    "\n",
    "n, m=map(int, input().split(' '))\n",
    "d = defaultdict(list)\n",
    "\n",
    "for i in range(n):\n",
    "    d[input()].append(i+1) #I saw this in the solution but I don't understand why I add the numbers in d.\n",
    "for i in range(m):\n",
    "    c=input()\n",
    "    if c in d:\n",
    "        print(*d[c]) #I saw in the solution the use of * to print the elements of a list as a string without commans.\n",
    "    else:\n",
    "        print(\"-1\")"
   ]
  },
  {
   "cell_type": "markdown",
   "metadata": {},
   "source": [
    "#### EX. 1.5.4: Collections.namedtuple()"
   ]
  },
  {
   "cell_type": "markdown",
   "metadata": {},
   "source": [
    "*Basically, namedtuples are easy to create, lightweight object types.\n",
    "They turn tuples into convenient containers for simple tasks.\n",
    "With namedtuples, you don’t have to use integer indices for accessing members of a tuple.*"
   ]
  },
  {
   "cell_type": "code",
   "execution_count": null,
   "metadata": {},
   "outputs": [],
   "source": [
    "from collections import namedtuple\n",
    "N=int(input())\n",
    "columns=input().split()\n",
    "\n",
    "j=0\n",
    "for i in range(N):\n",
    "    Students= namedtuple('students', columns) #namedtuple(The name of the namedtuple, the list of attributes stored in the namedtuple)\n",
    "    ID, MARKS, NAME, CLASS = input().split()\n",
    "    students=Students(ID, MARKS, NAME, CLASS)\n",
    "    j=j+int(students.MARKS) #counter of the grades\n",
    "\n",
    "print(j/N)"
   ]
  },
  {
   "cell_type": "markdown",
   "metadata": {},
   "source": [
    "#### EX. 1.5.5: Collections.OrderedDict()"
   ]
  },
  {
   "cell_type": "markdown",
   "metadata": {},
   "source": [
    "*You are the manager of a supermarket.\n",
    "You have a list of N items together with their prices that consumers bought on a particular day.\n",
    "Your task is to print each item_name and net_price in order of its first occurrence.*\n",
    "\n",
    "*item_name = Name of the item.*\n",
    "\n",
    "*net_price = Quantity of the item sold multiplied by the price of each item.*"
   ]
  },
  {
   "cell_type": "code",
   "execution_count": null,
   "metadata": {},
   "outputs": [],
   "source": [
    "from collections import OrderedDict\n",
    "N=int(input())\n",
    "items_ord=OrderedDict()\n",
    "for i in range(N):\n",
    "    #I took the function rpartition() from the solution, since it's my first time using python. \n",
    "    #It is to split the string in a tuple of three elements. For example the first one is: BANANA FRIES 12.\n",
    "    item_name, space, net_price=input().rpartition(' ')\n",
    "    #I took the function .get() from the solution. It has the key and the default value as arguments.\n",
    "    items_ord[item_name]= items_ord.get(item_name, 0) + int(net_price)\n",
    "\n",
    "#I use the function .items() that provides me a view of the items_ord's (name of my dict.) items.\n",
    "for item_name, net_price in items_ord.items():\n",
    "    print(item_name, net_price)"
   ]
  },
  {
   "cell_type": "markdown",
   "metadata": {},
   "source": [
    "#### EX. 1.5.6: Word Order"
   ]
  },
  {
   "cell_type": "markdown",
   "metadata": {},
   "source": [
    "*You are given n words. Some words may repeat. For each word, output its number of occurrences. The output order should correspond with the input order of appearance of the word. See the sample input/output for clarification.*\n",
    "\n",
    "*Note: Each input line ends with a \"\\n\" character.*"
   ]
  },
  {
   "cell_type": "code",
   "execution_count": null,
   "metadata": {},
   "outputs": [],
   "source": [
    "from collections import OrderedDict\n",
    "n=int(input())\n",
    "words_l=[]\n",
    "ord_dict=OrderedDict()\n",
    "\n",
    "for i in range(n):\n",
    "    words=input()\n",
    "    words_l.append(words)\n",
    "words_set=set(words_l)\n",
    "print(len(words_set)) #I print the number of words\n",
    "\n",
    "for i in words_l:\n",
    "    if i in ord_dict:\n",
    "        ord_dict[i]=ord_dict[i]+1\n",
    "    else:\n",
    "        ord_dict[i]=1\n",
    "print(\" \".join([str(ord_dict[i]) for i in ord_dict])) #I print the number of occurences of every word."
   ]
  },
  {
   "cell_type": "markdown",
   "metadata": {},
   "source": [
    "#### EX. 1.5.7: Company Logo"
   ]
  },
  {
   "cell_type": "markdown",
   "metadata": {},
   "source": [
    "*A newly opened multinational brand has decided to base their company logo on the three most common characters in the company name. They are now trying out various combinations of company names and logos based on this condition. Given a string , which is the company name in lowercase letters, your task is to find the top three most common characters in the string.*\n",
    "\n",
    "*Print the three most common characters along with their occurrence count.\n",
    "Sort in descending order of occurrence count.\n",
    "If the occurrence count is the same, sort the characters in alphabetical order.\n",
    "For example, according to the conditions described above, GOOGLE would have it's logo with the letters G, O, E.*"
   ]
  },
  {
   "cell_type": "code",
   "execution_count": null,
   "metadata": {},
   "outputs": [],
   "source": [
    "import math\n",
    "import os\n",
    "import random\n",
    "import re\n",
    "import sys\n",
    "from collections import Counter\n",
    "\n",
    "\n",
    "s = input()\n",
    "s_sort=sorted(s)\n",
    "\n",
    "#I use the function .most_common of the lbrary collections that has as argument the number of most common words that I want\n",
    "\n",
    "for i in (Counter(s_sort).most_common(3)): #Counter(s_sort) is a sub-class of Counter objects\n",
    "    print(str(i[0]) + \" \" + str(i[1])) #I print the letter and how many of it are in the string"
   ]
  },
  {
   "cell_type": "markdown",
   "metadata": {},
   "source": [
    "#### EX. 1.5.8: Piling Up!"
   ]
  },
  {
   "cell_type": "markdown",
   "metadata": {},
   "source": [
    "*There is a horizontal row of n cubes. The length of each cube is given. You need to create a new vertical pile of cubes. The new pile should follow these directions: if cube[i] is on top of cube[j] then sideLenght[j]>=sideLenght[i].*\n",
    "\n",
    "*When stacking the cubes, you can only pick up either the leftmost or the rightmost cube each time. Print Yes if it is possible to stack the cubes. Otherwise, print No.*"
   ]
  },
  {
   "cell_type": "code",
   "execution_count": null,
   "metadata": {},
   "outputs": [],
   "source": [
    "#For this excercise I was helped for 2 parts by the solution from the official site:\n",
    "#https://www.hackerrank.com/challenges/piling-up/forum\n",
    "\n",
    "from collections import deque\n",
    "\n",
    "numtests = int(input())\n",
    "\n",
    "for i in range(numtests):\n",
    "    numblocks = int(input()) #number of blcks\n",
    "    blocks = deque(list(map(int, input().split())))\n",
    "    last = float('inf') #float('inf') indicates positive infinity\n",
    "    \n",
    "    while blocks:\n",
    "        if last >= blocks[0] >= blocks[-1]:\n",
    "            last = blocks.popleft()\n",
    "        elif last >= blocks[-1] >= blocks[0]:\n",
    "            last = blocks.pop()\n",
    "        else:\n",
    "            print('No')\n",
    "            break\n",
    "        \n",
    "    if not blocks:\n",
    "        print('Yes')"
   ]
  },
  {
   "cell_type": "markdown",
   "metadata": {},
   "source": [
    "### Date and Time\n",
    "#### EX. 1.6.1: Calendar Module"
   ]
  },
  {
   "cell_type": "markdown",
   "metadata": {},
   "source": [
    "*You are given a date. Your task is to find what the day is on that date.*"
   ]
  },
  {
   "cell_type": "code",
   "execution_count": null,
   "metadata": {},
   "outputs": [],
   "source": [
    "import calendar\n",
    "date=input().split()\n",
    "p=list(date)\n",
    "year=int(p[2])\n",
    "month=int(p[0])\n",
    "day=int(p[1])\n",
    "if 2000<year<3000:\n",
    "    i=calendar.weekday(year, month, day)\n",
    "    print(calendar.day_name[i].upper()) #I print the day in upper letters"
   ]
  },
  {
   "cell_type": "markdown",
   "metadata": {},
   "source": [
    "#### EX. 1.6.2: Time Delta"
   ]
  },
  {
   "cell_type": "markdown",
   "metadata": {},
   "source": [
    "*When users post an update on social media,such as a URL, image, status update etc., other users in their network are able to view this new post on their news feed. Users can also see exactly when the post was published, i.e, how many hours, minutes or seconds ago.*\n",
    "\n",
    "*Since sometimes posts are published and viewed in different time zones, this can be confusing. You are given two timestamps of one such post that a user can see on his newsfeed in the following format:*\n",
    "\n",
    "*Day dd Mon yyyy hh:mm:ss +xxxx*\n",
    "\n",
    "*Here +xxxx represents the time zone. Your task is to print the absolute difference (in seconds) between them.*"
   ]
  },
  {
   "cell_type": "code",
   "execution_count": null,
   "metadata": {},
   "outputs": [],
   "source": [
    "import math\n",
    "import os\n",
    "import random\n",
    "import re\n",
    "import sys\n",
    "\n",
    "from datetime import datetime\n",
    "# Complete the time_delta function below.\n",
    "def time_delta(t1, t2):\n",
    "    #%a --> for day date\n",
    "    #%d --> for integers\n",
    "    #%b --> for abbreviate month in words\n",
    "    #%Y --> for years\n",
    "    #%H --> for hours\n",
    "    #%M --> for minutes\n",
    "    #%S --> for seconds\n",
    "    #%z --> specific for datetime\n",
    "    \n",
    "    time_input=\"%a %d %b %Y %H:%M:%S %z\"\n",
    "    t1=datetime.strptime(t1, time_input)\n",
    "    t2=datetime.strptime(t2, time_input)\n",
    "    \n",
    "    #I use total_seconds() function that returns the total number of seconds for the specified interval.\n",
    "    return(str(int(abs(t1-t2).total_seconds())))\n",
    "\n",
    "\n",
    "fptr = open(os.environ['OUTPUT_PATH'], 'w')\n",
    "t = int(input())\n",
    "\n",
    "for t_itr in range(t):\n",
    "    t1 = input()\n",
    "    t2 = input()\n",
    "    delta = time_delta(t1, t2)\n",
    "    fptr.write(delta + '\\n')\n",
    "\n",
    "fptr.close()"
   ]
  },
  {
   "cell_type": "markdown",
   "metadata": {},
   "source": [
    "### Exceptions\n",
    "#### EX. 1.7.1: Errors and Exceptions"
   ]
  },
  {
   "cell_type": "markdown",
   "metadata": {},
   "source": [
    "*You are given two values a and b.\n",
    "Perform integer division and print a/b.*"
   ]
  },
  {
   "cell_type": "code",
   "execution_count": null,
   "metadata": {},
   "outputs": [],
   "source": [
    "T=int(input())\n",
    "if 0<T<10: #constraint of 0<T<10 in the task\n",
    "    for i in range(T):\n",
    "        a, b= input().split()\n",
    "        try:\n",
    "            print(int(a)//int(b)) #integer from the division\n",
    "\n",
    "        except ZeroDivisionError as e:\n",
    "            print(\"Error Code:\", e)\n",
    "        except ValueError as ve:\n",
    "            print(\"Error Code:\", ve)"
   ]
  },
  {
   "cell_type": "markdown",
   "metadata": {},
   "source": [
    "### Built-ins \n",
    "#### EX. 1.8.1: Zipped!"
   ]
  },
  {
   "cell_type": "markdown",
   "metadata": {},
   "source": [
    "*The National University conducts an examination of  students in  subjects.\n",
    "Your task is to compute the average scores of each student.*\n",
    "\n",
    "*Average score = (Sum of scores obtained in all subjects by a student)/(Total number of subjects)*"
   ]
  },
  {
   "cell_type": "code",
   "execution_count": null,
   "metadata": {},
   "outputs": [],
   "source": [
    "N, X=input().split()\n",
    "student_grades=[]\n",
    "for i in range(int(X)):\n",
    "    student_grades.append(map(float, input().split()))\n",
    "#Just to control:\n",
    "#print(student_grades) gives\n",
    "#[['89', '90', '78', '93', '80'], ['90', '91', '85', '88', '86'], ['91', '92', '83', '89', '90.5']] \n",
    "#I need to zip the 3 sub-lists\n",
    "\n",
    "grades = zip(*student_grades)\n",
    "for i in grades:\n",
    "    print(sum(i)/int(X))"
   ]
  },
  {
   "cell_type": "markdown",
   "metadata": {},
   "source": [
    "#### EX. 1.8.2: Athlete Sort"
   ]
  },
  {
   "cell_type": "markdown",
   "metadata": {},
   "source": [
    "*You are given a spreadsheet that contains a list of N athletes and their details (such as age, height, weight and so on). You are required to sort the data based on the K(^th) attribute and print the final resulting table. Follow the example given below for better understanding.*\n",
    "\n",
    "*Note that K is indexed from 0 to M-1, where M is the number of attributes.\n",
    "\n",
    "Note: If two attributes are the same for different rows, for example, if two atheletes are of the same age, print the row that appeared first in the input.*"
   ]
  },
  {
   "cell_type": "code",
   "execution_count": null,
   "metadata": {},
   "outputs": [],
   "source": [
    "import math\n",
    "import os\n",
    "import random\n",
    "import re\n",
    "import sys\n",
    "\n",
    "nm = input().split()\n",
    "n = int(nm[0])\n",
    "m = int(nm[1])\n",
    "\n",
    "arr = []\n",
    "\n",
    "for _ in range(n):\n",
    "    arr.append(list(map(int, input().rstrip().split())))\n",
    "\n",
    "k = int(input())\n",
    "\n",
    "#putting key=lambda x : x[k] I have that the function .sort that returns me the element in the array whose element x[k], \n",
    "#is ordered before the other elements. lambda lets me to produce an in-line function. \n",
    "#I took this from the solution because at first I only put key=k.\n",
    "arr.sort(reverse=False, key=lambda x : x[k])\n",
    "\n",
    "for i in arr:\n",
    "    print(\" \".join(str(j) for j in i))"
   ]
  },
  {
   "cell_type": "markdown",
   "metadata": {},
   "source": [
    "#### EX. 1.8.3: ginortS"
   ]
  },
  {
   "cell_type": "markdown",
   "metadata": {},
   "source": [
    "*You are given a string S.\n",
    " S contains alphanumeric characters only.*\n",
    "\n",
    "*Your task is to sort the string S in the following manner: all sorted lowercase letters are ahead of uppercase letters.\n",
    "All sorted uppercase letters are ahead of digits.\n",
    "All sorted odd digits are ahead of sorted even digits.*"
   ]
  },
  {
   "cell_type": "code",
   "execution_count": null,
   "metadata": {},
   "outputs": [],
   "source": [
    "s=input()\n",
    "low=[]\n",
    "upp=[]\n",
    "odd=[]\n",
    "even=[]\n",
    "s_list=list(s)\n",
    "for i in s_list:\n",
    "    if i.isalpha()==True:\n",
    "        if i.islower()==True:\n",
    "            low.append(i) #I put the lower letters in low\n",
    "        else:\n",
    "            upp.append(i) #I put the upper letters in upp\n",
    "    elif i.isnumeric()==True:\n",
    "        if int(i)%2==0:\n",
    "            even.append(i) #I put the even numbers in even\n",
    "        elif int(i)%2!=0:\n",
    "            odd.append(i) #I put the odd numbers in odd\n",
    "\n",
    "#I sort all the lists\n",
    "low.sort()\n",
    "upp.sort()\n",
    "odd.sort()\n",
    "even.sort()\n",
    "\n",
    "#First lowercase letters, second uppercase letters, third odd digits, fourth even digits.\n",
    "for i in upp:\n",
    "    low.append(i)\n",
    "for i in odd:\n",
    "    low.append(i)\n",
    "for i in even:\n",
    "    low.append(i) \n",
    "\n",
    "print(''.join(str(i) for i in low))"
   ]
  },
  {
   "cell_type": "markdown",
   "metadata": {},
   "source": [
    "### Python Functionals\n",
    "#### EX. 1.9.1: Map and Lambda Function "
   ]
  },
  {
   "cell_type": "markdown",
   "metadata": {},
   "source": [
    "*Let's learn some new Python concepts! You have to generate a list of the first N fibonacci numbers, 0 being the first number. Then, apply the map function and a lambda expression to cube each fibonacci number and print the list.*"
   ]
  },
  {
   "cell_type": "code",
   "execution_count": null,
   "metadata": {},
   "outputs": [],
   "source": [
    "cube = lambda x: x**3 \n",
    "\n",
    "def fibonacci(n):\n",
    "    if n==0:\n",
    "        return(0)\n",
    "    if n==1:\n",
    "        return(1)\n",
    "    if n>1:\n",
    "        return(fibonacci(n-1)+fibonacci(n-2)) #I apply the definition of Fibonacci numbers\n",
    "#I don't understand why it doesn't work.\n",
    "\n",
    "n = int(input())\n",
    "print(list(map(cube, fibonacci(n))))"
   ]
  },
  {
   "cell_type": "markdown",
   "metadata": {},
   "source": [
    "### Regex and Parsing challenges\n",
    "#### EX. 1.10.1: Detect Floating Point Number"
   ]
  },
  {
   "cell_type": "markdown",
   "metadata": {},
   "source": [
    "*You are given a string N.\n",
    "Your task is to verify that N is a floating point number.*\n",
    "\n",
    "*In this task, a valid float number must satisfy all of the following requirements:\n",
    "number can start with +, - or . symbol; number must contain at least 1 decimal value; number must have exactly one . symbol.\n",
    "Number must not give any exceptions when converted using float(N).*"
   ]
  },
  {
   "cell_type": "code",
   "execution_count": null,
   "metadata": {},
   "outputs": [],
   "source": [
    "T=int(input())\n",
    "\n",
    "for i in range(T):\n",
    "    N=input()\n",
    "    try:\n",
    "        float(N) #If it's a float number print True\n",
    "        print(\"True\")\n",
    "    except ValueError: #If it's not print False\n",
    "        print(\"False\")"
   ]
  },
  {
   "cell_type": "markdown",
   "metadata": {},
   "source": [
    "#### EX. 1.10.2: Re.split()"
   ]
  },
  {
   "cell_type": "markdown",
   "metadata": {},
   "source": [
    "*You are given a string s consisting only of digits 0-9, commas ,, and dots .*\n",
    "\n",
    "*Your task is to complete the regex_pattern defined below, which will be used to re.split() all of the , and . symbols in s.*\n",
    "\n",
    "*It’s guaranteed that every comma and every dot in s is preceeded and followed by a digit.*"
   ]
  },
  {
   "cell_type": "code",
   "execution_count": null,
   "metadata": {},
   "outputs": [],
   "source": [
    "import re\n",
    "\n",
    "regex_pattern = r\"[, .]\" #It's the pattern for the simbols . and ,\n",
    "print(\"\\n\".join(re.split(regex_pattern, input())))"
   ]
  },
  {
   "cell_type": "markdown",
   "metadata": {},
   "source": [
    "#### EX. 1.10.3: Group(), Groups() & Groupdict()"
   ]
  },
  {
   "cell_type": "markdown",
   "metadata": {},
   "source": [
    "*You are given a string S.\n",
    "Your task is to find the first occurrence of an alphanumeric character in S (read from left to right) that has consecutive repetitions.*"
   ]
  },
  {
   "cell_type": "code",
   "execution_count": null,
   "metadata": {},
   "outputs": [],
   "source": [
    "import re\n",
    "s=input().strip() #strip() is used to remove spaces, tabs, and newlines.\n",
    "\n",
    "#I took the code from the solution. \n",
    "#re.search() takes a pattern and a string and search for that pattern in the string. \n",
    "#My problem was to find the code/expression of the pattern.\n",
    "m = re.search(r'([a-zA-Z0-9])\\1', s)\n",
    "print(m.group(1) if m else -1)"
   ]
  },
  {
   "cell_type": "markdown",
   "metadata": {},
   "source": [
    "#### EX. 1.10.4: Re.findall() & Re.finditer()"
   ]
  },
  {
   "cell_type": "markdown",
   "metadata": {},
   "source": [
    "*You are given a string S. It consists of alphanumeric characters, spaces and symbols(+,-).\n",
    "Your task is to find all the substrings of S that contains 2 or more vowels.\n",
    "Also, these substrings must lie in between 2 consonants and should contain vowels only.*\n",
    "\n",
    "*Note :\n",
    "Vowels are defined as: AEIOU and aeiou.\n",
    "Consonants are defined as: QWRTYPSDFGHJKLZXCVBNM and qwrtypsdfghjklzxcvbnm.*"
   ]
  },
  {
   "cell_type": "code",
   "execution_count": null,
   "metadata": {},
   "outputs": [],
   "source": [
    "import re\n",
    "s=input()\n",
    "#re.findall(pattern, string, flags)\n",
    "#pattern: https://docs.python.org/3/library/re.html\n",
    "#- (?<=...) Matches if the current position in the string is preceded by a match for ... that ends at the current position.\n",
    "#- (...) Matches whatever regular expression is inside the parentheses, and indicates the start and end of a group\n",
    "#- {m,n} Causes the resulting RE to match from m to n repetitions of the preceding RE, attempting to match as many repetitions as possible.\n",
    "#- (?=...) Matches if ... matches next, but doesn’t consume any of the string.\n",
    "#string: s\n",
    "#flags: re.IGNORECASE alias re.I --> perform case-insensitive matching. It means that the [A-Z] will also match lowercase letters.\n",
    "\n",
    "arg= re.findall(r'(?<=[qwrtypsdfghjklzxcvbnm])([aeiou]{2,})(?=[qwrtypsdfghjklzxcvbnm])', s, flags=re.I)\n",
    "\n",
    "#I took from the solution how to print but it doesn't work anyway\n",
    "print('\\n'.join(arg or ['-1']))\n"
   ]
  },
  {
   "cell_type": "markdown",
   "metadata": {},
   "source": [
    "#### EX. 1.10.5: Re.start() & Re.end()"
   ]
  },
  {
   "cell_type": "markdown",
   "metadata": {},
   "source": [
    "*You are given a string S.\n",
    "Your task is to find the indices of the start and end of string k in S.*"
   ]
  },
  {
   "cell_type": "code",
   "execution_count": null,
   "metadata": {},
   "outputs": [],
   "source": [
    "#In the hackerrank example \\d+ is for searching a digit in all the string\n",
    "import re\n",
    "s=input()\n",
    "k=input()\n",
    "m = re.search(k, s)\n",
    "\n",
    "if not m:\n",
    "    print(-1, -1)\n",
    "else:\n",
    "#The format() method formats the specified value(s) and insert them inside the string's placeholder.\n",
    "    for i in m:\n",
    "        print(\"({x1}, {x2})\".format(x1=m.start(), x2=m.end()-1))\n",
    "        m=re.search(k, i.start()+1)\n",
    "    #I don't understand why it doesn't work."
   ]
  },
  {
   "cell_type": "markdown",
   "metadata": {},
   "source": [
    "#### EX. 1.10.6: Regex Substitution"
   ]
  },
  {
   "cell_type": "markdown",
   "metadata": {},
   "source": [
    "*You are given a text of  lines. The text contains && and || symbols.\n",
    "Your task is to modify those symbols to the following:*\n",
    "\n",
    "*&& → and*\n",
    "\n",
    "*|| → or*\n",
    "\n",
    "Both && and || should have a space \" \" on both sides.*"
   ]
  },
  {
   "cell_type": "code",
   "execution_count": null,
   "metadata": {},
   "outputs": [],
   "source": [
    "import re\n",
    "N=int(input())\n",
    "\n",
    "def fun(match):\n",
    "    #The first parenthesized subgroup. match.group(0) gives the entire match.\n",
    "    if match.group(1)==\"&&\":\n",
    "        return(\"and\")\n",
    "    elif match.group(1)==\"||\":\n",
    "        return(\"or\")\n",
    "\n",
    "for i in range(N):\n",
    "#To match a literal '|', use \\|, or enclose it inside a character class, as in [|].\n",
    "#That includes sets starting with a literal '[' or containing literal character sequences '--', '&&', '~~', and '||'. \n",
    "#To avoid a warning escape them with a backslash.\n",
    "\n",
    "    s=input()\n",
    "    print(re.sub(r'(?<=)([|][|]\\&&)(?=)', fun, s))\n",
    "    \n",
    "#It doesn't work. I can't find the error."
   ]
  },
  {
   "cell_type": "markdown",
   "metadata": {},
   "source": [
    "#### EX. 1.10.7: Validating Roman Numerals"
   ]
  },
  {
   "cell_type": "markdown",
   "metadata": {},
   "source": [
    "*You are given a string, and you have to validate whether it's a valid Roman numeral. If it is valid, print True. Otherwise, print False. Try to create a regular expression for a valid Roman numeral.*"
   ]
  },
  {
   "cell_type": "code",
   "execution_count": null,
   "metadata": {},
   "outputs": [],
   "source": [
    "import re\n",
    "regex_pattern = r\"M{0,3}(CM|CD|D?C{0,3})(XC|XL|L?X{0,3})(IX|IV|V?I{0,3})$\"\t# Do not delete 'r'.\n",
    "print(str(bool(re.match(regex_pattern, input()))))"
   ]
  },
  {
   "cell_type": "markdown",
   "metadata": {},
   "source": [
    "#### EX. 1.10.8: Validating phone numbers"
   ]
  },
  {
   "cell_type": "markdown",
   "metadata": {},
   "source": [
    "*You are given some input, and you are required to check whether they are valid mobile numbers.A valid mobile number is a ten digit number starting with a 7, 8 or 9.*\n",
    "*For every string listed, print \"YES\" if it is a valid mobile number and \"NO\" if it is not on separate lines. Do not print the quotes.*"
   ]
  },
  {
   "cell_type": "code",
   "execution_count": null,
   "metadata": {},
   "outputs": [],
   "source": [
    "N=input()\n",
    "for i in range(int(N)):\n",
    "    s=input()\n",
    "    s_list=list(s) #I transform the string in list\n",
    "    if s.isdigit()==True:\n",
    "        if len(s_list)==10: #it's a 10 digit number\n",
    "            if s[0]==\"7\" or s[0]==\"8\" or s[0]==\"9\": #it starts with 7, 8, or 9\n",
    "                print(\"YES\") #then it's a validate phone number\n",
    "            else:\n",
    "                print(\"NO\")\n",
    "        else:\n",
    "            print(\"NO\")\n",
    "    else:\n",
    "            print(\"NO\")"
   ]
  },
  {
   "cell_type": "markdown",
   "metadata": {},
   "source": [
    "#### EX. 1.10.9: Validating and Parsing Email Addresses"
   ]
  },
  {
   "cell_type": "markdown",
   "metadata": {},
   "source": [
    "*A valid email address meets the following criteria:*\n",
    "\n",
    "*It's composed of a username, domain name, and extension assembled in this format: username@domain.extension\n",
    "The username starts with an English alphabetical character, and any subsequent characters consist of one or more of the following: alphanumeric characters, -,., and _.\n",
    "The domain and extension contain only English alphabetical characters.\n",
    "The extension is 1, 2, or 3 characters in length.\n",
    "Given  pairs of names and email addresses as input, print each name and email address pair having a valid email address on a new line.*\n",
    "\n",
    "*Hint: Try using Email.utils() to complete this challenge.*"
   ]
  },
  {
   "cell_type": "code",
   "execution_count": null,
   "metadata": {},
   "outputs": [],
   "source": [
    "import email.utils\n",
    "import re\n",
    "n=int(input())\n",
    "#email.utils.formataddr(pair, charset='utf-8')\n",
    "#It takes a 2-tuple of the form (realname, email_address) and returns the string value suitable for a To or Cc header.\n",
    "\n",
    "for i in range(n):\n",
    "    mail=email.utils.parseaddr(input())\n",
    "    \n",
    "    #I took the regular expression from the solution because it was very very difficult to get it for me.\n",
    "    #[0-9] Returns a match for any digit between 0 and 9.\n",
    "    #[a-z] Returns a match for any lower case character, alphabetically between a and z.\n",
    "    #\\w Returns a match where the string contains any word characters (characters from a to Z, digits from 0-9, \n",
    "    #and the underscore _ character).\n",
    "    #{} returns Exactly the specified number of occurrences.\n",
    "    #$ --> Ends with\n",
    "    #\\ signals a special sequence\n",
    "    \n",
    "    m= re.match(r\"[a-z][\\w.-]+@[a-z]+\\.[a-z]{1,3}$\", mail[1], flags=re.I) #re.I=re.IGNORECASE\n",
    "    if m:\n",
    "        print(email.utils.formataddr(mail))"
   ]
  },
  {
   "cell_type": "markdown",
   "metadata": {},
   "source": [
    "#### EX. 1.10.10: Hex Color Code"
   ]
  },
  {
   "cell_type": "markdown",
   "metadata": {},
   "source": [
    "*CSS colors are defined using a hexadecimal (HEX) notation for the combination of Red, Green, and Blue color values (RGB).*\n",
    "\n",
    "*Specifications of HEX Color Code*\n",
    "\n",
    "*■ It must start with a '#' symbol.*\n",
    "\n",
    "*■ It can have 3 or 6 digits.*\n",
    "\n",
    "*■ Each digit is in the range of 0 to F. (1, 2, 3, 4, 5, 6, 7, 8, 9, 0, A, B, C, D, E and F).*\n",
    "\n",
    "*■ A-F letters can be lower case. (a, b, c, d, e and f are also valid digits).*"
   ]
  },
  {
   "cell_type": "code",
   "execution_count": null,
   "metadata": {},
   "outputs": [],
   "source": [
    "import re\n",
    "N=input()\n",
    "#re.findall(pattern, string, flags=0)\n",
    "#Return all non-overlapping matches of pattern in string, as a list of strings or tuples. The string is scanned left-to-right, and matches are returned in the order found. \n",
    "for i in range(int(N)):\n",
    "    code=input()\n",
    "    #I copied the pattern from the solution.\n",
    "    m=re.findall(r':?.(#[0-9a-fA-F]{6}|#[0-9a-fA-F]{3})', code)\n",
    "    if m:\n",
    "        #The single asterisk( * ) is also used in *args. It  is used to pass a variable number of arguments to a function. \n",
    "        #I don't know how many colors will be printed.\n",
    "        print(*m, sep=\"\\n\")"
   ]
  },
  {
   "cell_type": "markdown",
   "metadata": {},
   "source": [
    "#### EX. 1.10.11: HTML Parser - Part 1"
   ]
  },
  {
   "cell_type": "markdown",
   "metadata": {},
   "source": [
    "*You are given an HTML code snippet of N lines.\n",
    "Your task is to print start tags, end tags and empty tags separately. Here, the -> symbol indicates that the tag contains an attribute. It is immediately followed by the name of the attribute and the attribute value.\n",
    "The > symbol acts as a separator of the attribute and the attribute value.*\n",
    "\n",
    "*If an HTML tag has no attribute then simply print the name of the tag.\n",
    "If an attribute has no attribute value then simply print the name of the attribute value as None.*\n",
    "\n",
    "*Note: Do not detect any HTML tag, attribute or attribute value inside the HTML comment tags (<!-- Comments -->).Comments can be multiline as well.*"
   ]
  },
  {
   "cell_type": "code",
   "execution_count": null,
   "metadata": {},
   "outputs": [],
   "source": [
    "from html.parser import HTMLParser\n",
    "\n",
    "N=int(input())\n",
    "\n",
    "class MyHTMLParser(HTMLParser):\n",
    "    def handle_starttag(self, tag, attrs):\n",
    "        print(\"Start :\", tag) #I print the comment\n",
    "        for i in attrs:\n",
    "            print(\"->\", i[0], \">\", i[1]) # -> when the tag contains an attribute, > is a separator of the attribute and the attribute value\n",
    "\n",
    "    def handle_endtag(self, tag):\n",
    "        print(\"End   :\", tag)\n",
    "\n",
    "    def handle_startendtag(self, tag, attrs):\n",
    "        print(\"Empty :\", tag)\n",
    "        for i in attrs:\n",
    "            print(\"->\", i[0], \">\", i[1])\n",
    "  \n",
    "parser = MyHTMLParser()\n",
    "for i in range(N):\n",
    "    parser.feed(''.join([input().strip()]))"
   ]
  },
  {
   "cell_type": "markdown",
   "metadata": {},
   "source": [
    "#### EX. 1.10.12: HTML Parser - Part 2"
   ]
  },
  {
   "cell_type": "markdown",
   "metadata": {},
   "source": [
    "*You are given an HTML code snippet of N lines.\n",
    "Your task is to print the single-line comments, multi-line comments and the data.*\n",
    "*Note: Do not print data if data == '\\n'.*"
   ]
  },
  {
   "cell_type": "code",
   "execution_count": null,
   "metadata": {},
   "outputs": [],
   "source": [
    "from html.parser import HTMLParser\n",
    "\n",
    "class MyHTMLParser(HTMLParser):\n",
    "    def handle_comment(self, data):\n",
    "        if len(data.split(\"\\n\"))!=1:\n",
    "            print(\">>> Multi-line Comment\\n\", data) #if it's a multi-line comment\n",
    "        else:\n",
    "            print(\">>> Single-line Comment\\n\", data) #if it's a single-line comment\n",
    "    \n",
    "    def handle_data(self, data):\n",
    "        if data.strip():\n",
    "            print(\">>> Data\\n\", data)\n",
    "\n",
    "html = \"\"\n",
    "for i in range(int(input())):\n",
    "    html += input().rstrip()\n",
    "    html += '\\n'\n",
    "    \n",
    "parser = MyHTMLParser()\n",
    "parser.feed(html)\n",
    "parser.close()"
   ]
  },
  {
   "cell_type": "markdown",
   "metadata": {},
   "source": [
    "#### EX. 1.10.13: Detect HTML Tags, Attributes and Attribute Values"
   ]
  },
  {
   "cell_type": "markdown",
   "metadata": {},
   "source": [
    "*You are given an HTML code snippet of N lines.\n",
    "Your task is to detect and print all the HTML tags, attributes and attribute values.*\n",
    "*The -> symbol indicates that the tag contains an attribute. It is immediately followed by the name of the attribute and the attribute value.\n",
    "The > symbol acts as a separator of attributes and attribute values.*\n",
    "\n",
    "*If an HTML tag has no attribute then simply print the name of the tag.*\n",
    "\n",
    "*Note: Do not detect any HTML tag, attribute or attribute value inside the HTML comment tags (<!-- Comments -->). Comments can be multiline.\n",
    "All attributes have an attribute value.*"
   ]
  },
  {
   "cell_type": "code",
   "execution_count": null,
   "metadata": {},
   "outputs": [],
   "source": [
    "from html.parser import HTMLParser\n",
    "\n",
    "N=int(input())\n",
    "\n",
    "class MyHTMLParser(HTMLParser):\n",
    "    def handle_starttag(self, tag, attrs):\n",
    "        print(tag)\n",
    "        for i in attrs:\n",
    "            print(\"->\", i[0], \">\", str(i[1])) # -> when the tag contains an attribute, > is a separator of the attribute and the attribute value\n",
    "\n",
    "    def handle_startendtag(self, tag, attrs): #empty tag\n",
    "        print(tag)\n",
    "        for i in attrs:\n",
    "            print(\"->\", i[0], \">\", i[1])\n",
    "  \n",
    "parser = MyHTMLParser()\n",
    "for i in range(N):\n",
    "    parser.feed(''.join([input().strip()]))"
   ]
  },
  {
   "cell_type": "markdown",
   "metadata": {},
   "source": [
    "#### EX. 1.10.14: Validating UID"
   ]
  },
  {
   "cell_type": "markdown",
   "metadata": {},
   "source": [
    "*ABCXYZ company has up to 100 employees.\n",
    "The company decides to create a unique identification number (UID) for each of its employees.\n",
    "The company has assigned you the task of validating all the randomly generated UIDs.*\n",
    "\n",
    "*A valid UID must follow the rules below:*\n",
    "\n",
    "*It must contain at least 2 uppercase English alphabet characters.\n",
    "It must contain at least 3 digits (0-9).\n",
    "It should only contain alphanumeric characters (a-z, A-Z & 0-9).\n",
    "No character should repeat.\n",
    "There must be exactly  characters in a valid UID.*"
   ]
  },
  {
   "cell_type": "code",
   "execution_count": null,
   "metadata": {},
   "outputs": [],
   "source": [
    "#This code doesn't work actually.\n",
    "\n",
    "T=int(input())\n",
    "upp=0\n",
    "num=0\n",
    "cc=[]\n",
    "for i in range(T):\n",
    "    s=input()\n",
    "    s_list=list(s)\n",
    "    \n",
    "    #I put in a list the number of repetition of every character. Every character should repeat just 1 time and a valid UID must be exactly of 10 characters, so the sum of the list cc has to be 10.\n",
    "    for i in s:\n",
    "        cc.append(s.count(i))\n",
    "    somma=sum(cc)\n",
    "    cc.clear()\n",
    "    \n",
    "    #Two principal conditions: It should only contain alphanumeric characters and there must be exactly  characters in a valid UID.\n",
    "    if s.isalnum()==True and len(s)==10:\n",
    "        #I use indexes to count the uppercases and the digits.\n",
    "        for i in s_list:\n",
    "            if i.isupper()==True:\n",
    "                upp = upp+1\n",
    "            if i.isdigit()==True:\n",
    "                num = num+1\n",
    "    \n",
    "    if upp>=2 and num>=3 and somma==10:\n",
    "        print(\"Valid\")\n",
    "    else:\n",
    "        print(\"Invalid\")"
   ]
  },
  {
   "cell_type": "markdown",
   "metadata": {},
   "source": [
    "#### EX. 1.10.15: Validating Credit Card Numbers"
   ]
  },
  {
   "cell_type": "markdown",
   "metadata": {},
   "source": [
    "*You and Fredrick are good friends. Yesterday, Fredrick received N credit cards from ABCD Bank. He wants to verify whether his credit card numbers are valid or not. You happen to be great at regex so he is asking for your help!*\n",
    "\n",
    "*A valid credit card from ABCD Bank has the following characteristics:*\n",
    "\n",
    "*► It must start with a 4, 5 or 6.\n",
    "► It must contain exactly 16 digits.\n",
    "► It must only consist of digits (0-9).\n",
    "► It may have digits in groups of 4, separated by one hyphen \"-\".\n",
    "► It must NOT use any other separator like ' ' , '_', etc.\n",
    "► It must NOT have 4 or more consecutive repeated digits.*"
   ]
  },
  {
   "cell_type": "code",
   "execution_count": null,
   "metadata": {},
   "outputs": [],
   "source": [
    "dig=[]\n",
    "\n",
    "for i in range(int(input())):\n",
    "    num=0\n",
    "    simbol=0\n",
    "    t=0\n",
    "    z=0\n",
    "    \n",
    "    s=input().strip()\n",
    "\n",
    "    for i in s:\n",
    "        if i.isdigit() is True:\n",
    "            num +=1 #counting the number of digits\n",
    "            dig.append(i)\n",
    "        if i.isdigit() is True or i==\"-\":\n",
    "            simbol=simbol \n",
    "        else:\n",
    "            simbol+=1 #counting the number of simbols that are not digits or -\n",
    "    \n",
    "    dig_string=''.join(dig) #I create this string of all the digits\n",
    "    for i in range(len(dig_string)-3):\n",
    "        if dig_string[i]==dig_string[i+1] and dig_string[i]==dig_string[i+2] and dig_string[i]==dig_string[i+3]:\n",
    "            z=1 #I verify if there are 4 consecutive repeated digits.\n",
    "    dig.clear()\n",
    "    \n",
    "    if z==1:\n",
    "        print(\"Invalid\") #If the number contains 4 consecutive repeated digits, then it's Invalid \n",
    "    else:\n",
    "        if num==16 and simbol==0: #If there are 16 digits and no simbols\n",
    "        \n",
    "            if s[0]==\"4\" or s[0]==\"5\" or s[0]==\"6\": #A valid number starts with 4, 5 or 6\n",
    "                if len(s)==16:\n",
    "                    print(\"Valid\")\n",
    "                else:\n",
    "                    for j in range(4, len(s)-3, 5):\n",
    "                        if s[j]==\"-\":\n",
    "                            t+=1\n",
    "                    if t==3: #If it contains 3 \"-\" every 4 digits, it's a valid credit card number\n",
    "                        print(\"Valid\")\n",
    "                    else:\n",
    "                        print(\"Invalid\")\n",
    "            else:\n",
    "                print(\"Invalid\")\n",
    "        \n",
    "        else:\n",
    "            print(\"Invalid\")"
   ]
  },
  {
   "cell_type": "markdown",
   "metadata": {},
   "source": [
    "#### EX. 1.10.16: Validating Postal Codes"
   ]
  },
  {
   "cell_type": "markdown",
   "metadata": {},
   "source": [
    "*A valid postal code P have to fullfil both below requirements:*\n",
    "\n",
    "*P must be a number in the range from 100000 to 999999 inclusive.*\n",
    "*P must not contain more than one alternating repetitive digit pair.\n",
    "Alternating repetitive digits are digits which repeat immediately after the next digit. In other words, an alternating repetitive digit pair is formed by two equal digits that have just a single digit between them.*\n",
    "*Your task is to provide two regular expressions regex_integer_in_range and regex_alternating_repetitive_digit_pair. Where:\n",
    "\n",
    "*regex_integer_in_range should match only integers range from 100000 to 999999 inclusive*\n",
    "\n",
    "*regex_alternating_repetitive_digit_pair should find alternating repetitive digits pairs in a given string.*"
   ]
  },
  {
   "cell_type": "code",
   "execution_count": null,
   "metadata": {},
   "outputs": [],
   "source": [
    "#[0-9] Returns a match for any digit between 0 and 9.\n",
    "#[a-z] Returns a match for any lower case character, alphabetically between a and z.\n",
    "#\\d is for an individual digit.\n",
    "#{} returns Exactly the specified number of occurrences.\n",
    "#(?=...) Matches if ... matches next, but doesn’t consume any of the string.\n",
    "#^ --> Starts with\n",
    "\n",
    "import re\n",
    "\n",
    "regex_integer_in_range = r\"^[1-9]\\d{5}$\"\t# Do not delete 'r'.\n",
    "regex_alternating_repetitive_digit_pair = r\"(\\d)(?=\\d\\1)\"\t# Do not delete 'r'.\n",
    "\n",
    "P = input()\n",
    "\n",
    "print (bool(re.match(regex_integer_in_range, P)) \n",
    "and len(re.findall(regex_alternating_repetitive_digit_pair, P)) < 2)"
   ]
  },
  {
   "cell_type": "markdown",
   "metadata": {},
   "source": [
    "#### EX. 1.10.17: Matrix Script"
   ]
  },
  {
   "cell_type": "markdown",
   "metadata": {},
   "source": [
    "*Neo has a complex matrix script. The matrix script is a NxM grid of strings. It consists of alphanumeric characters, spaces and symbols (!, @, #, $, %, &). To decode the script, Neo needs to read each column and select only the alphanumeric characters and connect them. Neo reads the column from top to bottom and starts reading from the leftmost column.*\n",
    "\n",
    "*If there are symbols or spaces between two alphanumeric characters of the decoded script, then Neo replaces them with a single space '' for better readability.*\n",
    "\n",
    "*Neo feels that there is no need to use 'if' conditions for decoding.*\n",
    "\n",
    "*Alphanumeric characters consist of: [A-Z, a-z, and 0-9].*"
   ]
  },
  {
   "cell_type": "code",
   "execution_count": null,
   "metadata": {},
   "outputs": [],
   "source": [
    "#For this excercise I took the patterns code from the official site and then tried to understand it:\n",
    "#https://www.hackerrank.com/challenges/matrix-script/forum\n",
    "\n",
    "import math\n",
    "import os\n",
    "import random\n",
    "import re\n",
    "import sys\n",
    "\n",
    "\n",
    "\n",
    "\n",
    "first_multiple_input = input().rstrip().split()\n",
    "\n",
    "n = int(first_multiple_input[0])\n",
    "\n",
    "m = int(first_multiple_input[1])\n",
    "\n",
    "matrix = []\n",
    "\n",
    "for _ in range(n):\n",
    "    matrix_item = input()\n",
    "    matrix.append(matrix_item)\n",
    "    \n",
    "s=\"\"\n",
    "for i in range(m):\n",
    "    for j in range(n):\n",
    "        s+=matrix[j][i]\n",
    "\n",
    "#[0-9] Returns a match for any digit between 0 and 9.\n",
    "#[a-z] Returns a match for any lower case character, alphabetically between a and z. The same for the upper letters.\n",
    "#\\s (lowercase s) matches a single whitespace character\n",
    "pattern=r\"(?<=[a-zA-Z0-9])[\\s!@#$%&]+(?=[a-zA-Z0-9])\"\n",
    "s=re.sub(pattern, \" \", s)\n",
    "print(s)"
   ]
  },
  {
   "cell_type": "markdown",
   "metadata": {},
   "source": [
    "### XML\n",
    "#### EX. 1.11.1: XML 1 - Find the Score"
   ]
  },
  {
   "cell_type": "markdown",
   "metadata": {},
   "source": [
    "*You are given a valid XML document, and you have to print its score. The score is calculated by the sum of the score of each element. For any element, the score is equal to the number of attributes it has.*"
   ]
  },
  {
   "cell_type": "code",
   "execution_count": null,
   "metadata": {},
   "outputs": [],
   "source": [
    "import sys\n",
    "import xml.etree.ElementTree as etree\n",
    "\n",
    "def get_attr_number(node):\n",
    "    \n",
    "    #node has a tag and a dictionary of attributes --> number of attr.=score\n",
    "    c=len(node.attrib)\n",
    "    \n",
    "    #I took the code from the solution because at first I thought to put the for cicle in this way:\n",
    "    #h=0\n",
    "    #for i in node:\n",
    "        #h+=sum(get_attr_number(i))\n",
    "    \n",
    "    return(c + sum(get_attr_number(i) for i in node))\n",
    "\n",
    "sys.stdin.readline()\n",
    "xml = sys.stdin.read()\n",
    "tree = etree.ElementTree(etree.fromstring(xml))\n",
    "root = tree.getroot()\n",
    "print(get_attr_number(root))"
   ]
  },
  {
   "cell_type": "markdown",
   "metadata": {},
   "source": [
    "#### EX. 1.11.2: XML2 - Find the Maximum Depth"
   ]
  },
  {
   "cell_type": "markdown",
   "metadata": {},
   "source": [
    "*You are given a valid XML document, and you have to print the maximum level of nesting in it. Take the depth of the root as 0.*"
   ]
  },
  {
   "cell_type": "code",
   "execution_count": null,
   "metadata": {},
   "outputs": [],
   "source": [
    "import xml.etree.ElementTree as etree\n",
    "\n",
    "maxdepth = 0\n",
    "def depth(elem, level):\n",
    "    \n",
    "    #global is an instruction maintained for the entire block of the current code. \n",
    "    #It means that the identificators will be interpreted as global.\n",
    "    global maxdepth\n",
    "    \n",
    "    if maxdepth==level:\n",
    "        maxdepth=maxdepth+1\n",
    "    \n",
    "    for i in elem:\n",
    "        depth(i, level+1)\n",
    "        #so if the incremented level is not equal to maxdepth --> this one is not incremented\n",
    "\n",
    "n = int(input())\n",
    "xml = \"\"\n",
    "for i in range(n):\n",
    "    xml =  xml + input() + \"\\n\"\n",
    "tree = etree.ElementTree(etree.fromstring(xml))\n",
    "depth(tree.getroot(), -1)\n",
    "print(maxdepth)"
   ]
  },
  {
   "cell_type": "markdown",
   "metadata": {},
   "source": [
    "### Closures and Decorations\n",
    "#### EX. 1.12.1: Standardize Mobile Number Using Decorators"
   ]
  },
  {
   "cell_type": "markdown",
   "metadata": {},
   "source": [
    "*Let's dive into decorators! You are given N mobile numbers. Sort them in ascending order then print them in the standard format shown below:*\n",
    "\n",
    "\n",
    "*+91 xxxxx xxxxx*\n",
    "\n",
    "*The given mobile numbers may have +91, 91 or 0 written before the actual 10 digit number. Alternatively, there may not be any prefix at all.*"
   ]
  },
  {
   "cell_type": "code",
   "execution_count": null,
   "metadata": {},
   "outputs": [],
   "source": [
    "def wrapper(f): #f is the function --> sort_phone\n",
    "    #wrapper function inputs function as a parameter\n",
    "    x=[]\n",
    "    tot=[]\n",
    "    def fun(l): #l is the list of the phone numbers\n",
    "        for i in range(len(l)):\n",
    "            #I put the first number in the list x --> it will be composed just by one integer element (the entire number)\n",
    "            x.append(int(l[i])) \n",
    "            #Then to separate every value from this phone number I use map(). The list y has a lenght at least of 10 values \n",
    "            y=list(map(int, str(x[0]))) \n",
    "            if len(y)==11: #case of starting with 0\n",
    "                y=y[1:]\n",
    "            elif len(y)==12: #case of starting with 91\n",
    "                y=y[2:]\n",
    "            elif len(y)==13: #case of starting with +91\n",
    "                y=y[3:]\n",
    "            s =\"+91 \" + \"\".join(map(str, y[:5])) + \" \" + \"\".join(map(str, y[5:])) #I put in s the phone number written in the form +91 xxxxx xxxxx\n",
    "            tot.append(s) #Tot will have 3 different phone numbers\n",
    "            x.clear()\n",
    "            y.clear()\n",
    "        tot.sort() #Sorting\n",
    "        for i in tot:\n",
    "            print(i)\n",
    "    return fun\n",
    "\n",
    "\n",
    "#The decorator @wrapper modifies the sort_phone function by changing its input to correct phone number format and then print sorted reformatted phone number.\n",
    "@wrapper\n",
    "def sort_phone(l):\n",
    "    print(*sorted(l), sep='\\n')\n",
    "\n",
    "if __name__ == '__main__':\n",
    "    l = [input() for _ in range(int(input()))]\n",
    "    sort_phone(l) "
   ]
  },
  {
   "cell_type": "markdown",
   "metadata": {},
   "source": [
    "#### EX. 1.12.2: Decorators 2 - Name Directory"
   ]
  },
  {
   "cell_type": "markdown",
   "metadata": {},
   "source": [
    "*Let's use decorators to build a name directory! You are given some information about N people. Each person has a first name, last name, age and sex. Print their names in a specific format sorted by their age in ascending order i.e. the youngest person's name should be printed first. For two people of the same age, print them in the order of their input.*"
   ]
  },
  {
   "cell_type": "code",
   "execution_count": null,
   "metadata": {},
   "outputs": [],
   "source": [
    "import operator\n",
    "\n",
    "def person_lister(f):\n",
    "    def inner(people):\n",
    "        #To sort the people by age I use key=operator.itemgetter(2) that person[2], the age, for person in people.\n",
    "        people.sort(key=operator.itemgetter(2))\n",
    "        #then I apply the function f to every person of people\n",
    "        return(f(person) for person in people)\n",
    "    return inner\n",
    "\n",
    "@person_lister\n",
    "def name_format(person):\n",
    "    return (\"Mr. \" if person[3] == \"M\" else \"Ms. \") + person[0] + \" \" + person[1]\n",
    "\n",
    "if __name__ == '__main__':\n",
    "    people = [input().split() for i in range(int(input()))]\n",
    "    print(*name_format(people), sep='\\n')"
   ]
  },
  {
   "cell_type": "markdown",
   "metadata": {},
   "source": [
    "### Numpy\n",
    "#### EX. 1.13.1: Array Mathematics"
   ]
  },
  {
   "cell_type": "markdown",
   "metadata": {},
   "source": [
    "*You are given two integer arrays, A and B of dimensions NxM.\n",
    "Your task is to perform the following operations:*\n",
    "\n",
    "*Add (A + B)*\n",
    "\n",
    "*Subtract (A - B)*\n",
    "\n",
    "*Multiply (A * B)*\n",
    "\n",
    "*Integer Division (A / B)*\n",
    "\n",
    "*Mod (A % B)*\n",
    "\n",
    "*Power (A ** B)*\n",
    "\n",
    "*Note: There is a method numpy.floor_divide() that works like numpy.divide() except it performs a floor division.*"
   ]
  },
  {
   "cell_type": "code",
   "execution_count": null,
   "metadata": {},
   "outputs": [],
   "source": [
    "import numpy\n",
    "\n",
    "N, M=list(map(int, input().split()))\n",
    "\n",
    "for i in range(N):\n",
    "    A=numpy.array([input().split()], int)\n",
    "\n",
    "for i in range(N):\n",
    "    B=numpy.array([input().split()], int)\n",
    "\n",
    "print(numpy.add(A, B)) #A+B\n",
    "print(numpy.subtract(A, B)) #A-B\n",
    "print(numpy.multiply(A, B)) #AxB\n",
    "print(numpy.floor_divide(A, B)) #A/B (integer)\n",
    "print(numpy.mod(A, B)) #A%B\n",
    "print(numpy.power(A, B)) #A^B"
   ]
  },
  {
   "cell_type": "markdown",
   "metadata": {},
   "source": [
    "#### EX. 1.13.2: Arrays"
   ]
  },
  {
   "cell_type": "markdown",
   "metadata": {},
   "source": [
    "*You are given a space separated list of numbers.\n",
    "Your task is to print a reversed NumPy array with the element type float.*"
   ]
  },
  {
   "cell_type": "code",
   "execution_count": null,
   "metadata": {},
   "outputs": [],
   "source": [
    "def arrays(arr):\n",
    "    # complete this function\n",
    "    # use numpy.array\n",
    "    arr.reverse()\n",
    "    arr_float=[float(i) for i in arr] #I transform every element of the array in a float number\n",
    "    a=numpy.array(arr_float)\n",
    "    return(a)"
   ]
  },
  {
   "cell_type": "markdown",
   "metadata": {},
   "source": [
    "#### EX. 1.13.3: Shape and Reshape"
   ]
  },
  {
   "cell_type": "markdown",
   "metadata": {},
   "source": [
    "*You are given a space separated list of nine integers. Your task is to convert this list into a 3x3 NumPy array.*"
   ]
  },
  {
   "cell_type": "code",
   "execution_count": null,
   "metadata": {},
   "outputs": [],
   "source": [
    "import numpy\n",
    "\n",
    "integers=input().split()\n",
    "integers_list=[int(i) for i in integers] #I transform every element of the array in a int number\n",
    "array=numpy.array(integers_list)\n",
    "print(numpy.reshape(array, (3, 3)))"
   ]
  },
  {
   "cell_type": "markdown",
   "metadata": {},
   "source": [
    "#### EX. 1.13.4: Transpose and Flatten"
   ]
  },
  {
   "cell_type": "markdown",
   "metadata": {},
   "source": [
    "*You are given a NxM integer array matrix with space separated elements (N = rows and M = columns).\n",
    "Your task is to print the transpose and flatten results.*"
   ]
  },
  {
   "cell_type": "code",
   "execution_count": null,
   "metadata": {},
   "outputs": [],
   "source": [
    "import numpy\n",
    "\n",
    "N, M=map(int, input().split())\n",
    "matrix=[]\n",
    "for i in range(N): #I create the matrix NxM\n",
    "    a=list(map(int, input().split()))\n",
    "    matrix.append(a)\n",
    "\n",
    "arr=numpy.array(matrix)\n",
    "print(numpy.transpose(arr)) #transpose\n",
    "print(arr.flatten())"
   ]
  },
  {
   "cell_type": "markdown",
   "metadata": {},
   "source": [
    "#### EX. 1.13.5: Concatenate"
   ]
  },
  {
   "cell_type": "markdown",
   "metadata": {},
   "source": [
    "*You are given two integer arrays of size NxP and NxP (N & M are rows, and P is the column). Your task is to concatenate the arrays along axis 0.*"
   ]
  },
  {
   "cell_type": "code",
   "execution_count": null,
   "metadata": {},
   "outputs": [],
   "source": [
    "import numpy\n",
    "N,M,P = map(int, input().split())\n",
    "\n",
    "matrix1=[]\n",
    "for i in range(N): #creating matrix 1\n",
    "    a1=list(map(int, input().split()))\n",
    "    matrix1.append(a1)\n",
    "\n",
    "matrix2=[]\n",
    "for i in range(M): #creating matrix 2\n",
    "    a2=list(map(int, input().split()))\n",
    "    matrix2.append(a2)\n",
    "    \n",
    "arr1 = numpy.array(matrix1)\n",
    "arr2 = numpy.array(matrix2)\n",
    "print(numpy.concatenate((arr1, arr2), axis=0)) #concatenating"
   ]
  },
  {
   "cell_type": "markdown",
   "metadata": {},
   "source": [
    "#### EX. 1.13.6: Zeros and Ones"
   ]
  },
  {
   "cell_type": "markdown",
   "metadata": {},
   "source": [
    "*You are given the shape of the array in the form of space-separated integers, each integer representing the size of different dimensions, your task is to print an array of the given shape and integer type using the tools numpy.zeros and numpy.ones.*"
   ]
  },
  {
   "cell_type": "code",
   "execution_count": null,
   "metadata": {},
   "outputs": [],
   "source": [
    "import numpy\n",
    "sizes = tuple(map(int, input().split()))\n",
    "print(numpy.zeros(sizes, int))\n",
    "print(numpy.ones(sizes, int))"
   ]
  },
  {
   "cell_type": "markdown",
   "metadata": {},
   "source": [
    "#### EX. 1.13.7: Eye and Identity"
   ]
  },
  {
   "cell_type": "markdown",
   "metadata": {},
   "source": [
    "*Your task is to print an array of size NxM with its main diagonal elements as 1's and 0's everywhere else.*"
   ]
  },
  {
   "cell_type": "code",
   "execution_count": null,
   "metadata": {},
   "outputs": [],
   "source": [
    "import numpy\n",
    "numpy.set_printoptions(legacy='1.13') #to get printing alignment correct\n",
    "N, M=map(int, input().split())\n",
    "print(numpy.eye(N, M, 0))"
   ]
  },
  {
   "cell_type": "markdown",
   "metadata": {},
   "source": [
    "#### EX. 1.13.8: Floor, Ceil and Rint"
   ]
  },
  {
   "cell_type": "markdown",
   "metadata": {},
   "source": [
    "*You are given a 1-D array, A. Your task is to print the floor, ceil and rint of all the elements of A.*"
   ]
  },
  {
   "cell_type": "code",
   "execution_count": null,
   "metadata": {},
   "outputs": [],
   "source": [
    "import numpy\n",
    "numpy.set_printoptions(legacy='1.13') #to get printing alignment correct\n",
    "A=numpy.array(input().split(), float)\n",
    "print(numpy.floor(A))\n",
    "print(numpy.ceil(A))\n",
    "print(numpy.rint(A))"
   ]
  },
  {
   "cell_type": "markdown",
   "metadata": {},
   "source": [
    "#### EX. 1.13.9: Sum and Prod"
   ]
  },
  {
   "cell_type": "markdown",
   "metadata": {},
   "source": [
    "*You are given a 2-D array with dimensions NxM.\n",
    "Your task is to perform the sum tool over axis  and then find the product of that result.*"
   ]
  },
  {
   "cell_type": "code",
   "execution_count": null,
   "metadata": {},
   "outputs": [],
   "source": [
    "import numpy\n",
    "numpy.set_printoptions(legacy='1.13') #to get printing alignment correct\n",
    "\n",
    "N, M=map(int, input().split())\n",
    "matrix=[]\n",
    "for i in range(N):\n",
    "    a=list(map(int, input().split()))\n",
    "    matrix.append(a)\n",
    "\n",
    "arr=numpy.array(matrix, int)   \n",
    "s=numpy.sum(arr, axis=0)\n",
    "print(numpy.prod(s, axis=0))"
   ]
  },
  {
   "cell_type": "markdown",
   "metadata": {},
   "source": [
    "#### EX. 1.13.10: Min and Max"
   ]
  },
  {
   "cell_type": "markdown",
   "metadata": {},
   "source": [
    "*You are given a 2-D array with dimensions NxM.\n",
    "Your task is to perform the min function over axis 1 and then find the max of that.*"
   ]
  },
  {
   "cell_type": "code",
   "execution_count": null,
   "metadata": {},
   "outputs": [],
   "source": [
    "import numpy\n",
    "numpy.set_printoptions(legacy='1.13') #to get printing alignment correct\n",
    "\n",
    "N, M=list(map(int, input().split()))\n",
    "matr=[]\n",
    "for i in range(N):\n",
    "    a=list(map(int, input().split()))\n",
    "    matr.append(a)\n",
    "\n",
    "arr=numpy.array(matr, int)\n",
    "print(numpy.max(numpy.min(arr, axis=1)))"
   ]
  },
  {
   "cell_type": "markdown",
   "metadata": {},
   "source": [
    "#### EX. 1.13.11: Mean, Var, and Std"
   ]
  },
  {
   "cell_type": "markdown",
   "metadata": {},
   "source": [
    "*You are given a 2-D array of size NxM.\n",
    "Your task is to find:*\n",
    "\n",
    "*The mean along axis 1,\n",
    "The var along axis 0,\n",
    "The std along axis None.*"
   ]
  },
  {
   "cell_type": "code",
   "execution_count": null,
   "metadata": {},
   "outputs": [],
   "source": [
    "import numpy\n",
    "\n",
    "N, M=list(map(int, input().split()))\n",
    "matr=[]\n",
    "for i in range(N):\n",
    "    a=list(map(int, input().split()))\n",
    "    matr.append(a)\n",
    "arr=numpy.array(matr, int)\n",
    "\n",
    "print(numpy.mean(arr, axis=1))\n",
    "print(numpy.var(arr, axis=0))\n",
    "print(round(numpy.std(arr, axis=None), 11))"
   ]
  },
  {
   "cell_type": "markdown",
   "metadata": {},
   "source": [
    "#### EX. 1.13.12: Dot and Cross"
   ]
  },
  {
   "cell_type": "markdown",
   "metadata": {},
   "source": [
    "*You are given two arrays A and B. Both have dimensions of NxN.\n",
    "Your task is to compute their matrix product.*"
   ]
  },
  {
   "cell_type": "code",
   "execution_count": null,
   "metadata": {},
   "outputs": [],
   "source": [
    "import numpy\n",
    "\n",
    "N=int(input())\n",
    "matr1=[]\n",
    "matr2=[]\n",
    "for i in range(N):\n",
    "    a=list(map(int, input().split()))\n",
    "    matr1.append(a)\n",
    "\n",
    "for i in range(N):\n",
    "    a=list(map(int, input().split()))\n",
    "    matr2.append(a)\n",
    "\n",
    "A=numpy.array(matr1, int)\n",
    "B=numpy.array(matr2, int)\n",
    "\n",
    "print(numpy.dot(A, B))"
   ]
  },
  {
   "cell_type": "markdown",
   "metadata": {},
   "source": [
    "#### EX. 1.13.13: Inner and Outer"
   ]
  },
  {
   "cell_type": "markdown",
   "metadata": {},
   "source": [
    "*You are given two arrays: A and B.\n",
    "Your task is to compute their inner and outer product.*"
   ]
  },
  {
   "cell_type": "code",
   "execution_count": null,
   "metadata": {},
   "outputs": [],
   "source": [
    "import numpy\n",
    "\n",
    "A=numpy.array(input().split(), int)\n",
    "B=numpy.array(input().split(), int)\n",
    "\n",
    "print(numpy.inner(A, B))\n",
    "print(numpy.outer(A, B))"
   ]
  },
  {
   "cell_type": "markdown",
   "metadata": {},
   "source": [
    "#### EX. 1.13.14: Polynomials"
   ]
  },
  {
   "cell_type": "markdown",
   "metadata": {},
   "source": [
    "*You are given the coefficients of a polynomial P.\n",
    "Your task is to find the value of P at point x.*"
   ]
  },
  {
   "cell_type": "code",
   "execution_count": null,
   "metadata": {},
   "outputs": [],
   "source": [
    "import numpy\n",
    "\n",
    "pp=input().split()\n",
    "P=[float(i) for i in list(pp)] #I transform every element of the list in a float number\n",
    "x=int(input())\n",
    "print(numpy.polyval(P, x))"
   ]
  },
  {
   "cell_type": "markdown",
   "metadata": {},
   "source": [
    "#### EX. 1.13.15: Linear Algebra"
   ]
  },
  {
   "cell_type": "markdown",
   "metadata": {},
   "source": [
    "*You are given a square matrix A with dimensions NxN. Your task is to find the determinant. Note: Round the answer to 2 places after the decimal.*"
   ]
  },
  {
   "cell_type": "code",
   "execution_count": null,
   "metadata": {},
   "outputs": [],
   "source": [
    "import numpy\n",
    "N=int(input())\n",
    "matr=[]\n",
    "for i in range(N):\n",
    "    a=list(map(float, input().split()))\n",
    "    matr.append(a)\n",
    "\n",
    "arr=numpy.array(matr)\n",
    "print(round(numpy.linalg.det(arr), 2)) #round is for having the float number with two decimals"
   ]
  },
  {
   "cell_type": "markdown",
   "metadata": {},
   "source": [
    "## **Problem 2**\n",
    "\n",
    "#### EX. 2.1: Birthday Cake Candles"
   ]
  },
  {
   "cell_type": "markdown",
   "metadata": {},
   "source": [
    "*You are in charge of the cake for a child's birthday. You have decided the cake will have one candle for each year of their total age. They will only be able to blow out the tallest of the candles. Count how many candles are tallest.*"
   ]
  },
  {
   "cell_type": "code",
   "execution_count": null,
   "metadata": {},
   "outputs": [],
   "source": [
    "#!/bin/python3\n",
    "\n",
    "import math\n",
    "import os\n",
    "import random\n",
    "import re\n",
    "import sys\n",
    "\n",
    "#\n",
    "# Complete the 'birthdayCakeCandles' function below.\n",
    "#\n",
    "# The function is expected to return an INTEGER.\n",
    "# The function accepts INTEGER_ARRAY candles as parameter.\n",
    "#\n",
    "\n",
    "def birthdayCakeCandles(candles):\n",
    "    c=0\n",
    "    m = max(candles)\n",
    "    for i in candles:\n",
    "        if i==m:\n",
    "            c=c+1 #counting the tallest candles\n",
    "    return(c)   \n",
    "\n",
    "\n",
    "fptr = open(os.environ['OUTPUT_PATH'], 'w')\n",
    "candles_count = int(input().strip())\n",
    "candles = list(map(int, input().rstrip().split()))\n",
    "result = birthdayCakeCandles(candles)\n",
    "fptr.write(str(result) + '\\n')\n",
    "fptr.close()\n"
   ]
  },
  {
   "cell_type": "markdown",
   "metadata": {},
   "source": [
    "#### EX. 2.2: Number Line Jumps"
   ]
  },
  {
   "cell_type": "markdown",
   "metadata": {},
   "source": [
    "*You are choreographing a circus show with various animals. For one act, you are given two kangaroos on a number line ready to jump in the positive direction (i.e, toward positive infinity).\n",
    "\n",
    "The first kangaroo starts at location x1 and moves at a rate of v1 meters per jump.\n",
    "The second kangaroo starts at location x2 and moves at a rate of v2 meters per jump.\n",
    "You have to figure out a way to get both kangaroos at the same location at the same time as part of the show. If it is possible, return YES, otherwise return NO.*"
   ]
  },
  {
   "cell_type": "code",
   "execution_count": null,
   "metadata": {},
   "outputs": [],
   "source": [
    "import math\n",
    "import os\n",
    "import random\n",
    "import re\n",
    "import sys\n",
    "\n",
    "#\n",
    "# Complete the 'kangaroo' function below.\n",
    "#\n",
    "# The function is expected to return a STRING.\n",
    "# The function accepts following parameters:\n",
    "#  1. INTEGER x1\n",
    "#  2. INTEGER v1\n",
    "#  3. INTEGER x2\n",
    "#  4. INTEGER v2\n",
    "#\n",
    "\n",
    "def kangaroo(x1, v1, x2, v2):\n",
    "    \n",
    "    y1= x1+v1\n",
    "    y2= x2+v2\n",
    "    \n",
    "    if (x1>x2 and v1>v2) or (x2>x1 and v2>v1) or (x1!=x2 and v1==v2) or (x1==x2 and v1!=v2): #cases where they don't coincide\n",
    "        return(\"NO\")\n",
    "    elif y1==y2:\n",
    "        return(\"YES\")\n",
    "    else:\n",
    "        return(kangaroo(y1, v1, y2, v2)) #itereting for every jump \n",
    "\n",
    "    \n",
    "fptr = open(os.environ['OUTPUT_PATH'], 'w')\n",
    "first_multiple_input = input().rstrip().split()\n",
    "x1 = int(first_multiple_input[0])\n",
    "v1 = int(first_multiple_input[1])\n",
    "x2 = int(first_multiple_input[2])\n",
    "v2 = int(first_multiple_input[3])\n",
    "result = kangaroo(x1, v1, x2, v2)\n",
    "fptr.write(result + '\\n')\n",
    "fptr.close()"
   ]
  },
  {
   "cell_type": "markdown",
   "metadata": {},
   "source": [
    "#### EX. 2.3: Viral Advertising"
   ]
  },
  {
   "cell_type": "markdown",
   "metadata": {},
   "source": [
    "*HackerLand Enterprise is adopting a new viral advertising strategy. When they launch a new product, they advertise it to exactly 5 people on social media.\n",
    "\n",
    "On the first day, half of those 5 people (i.e., floor(5/2)=2) like the advertisement and each shares it with 3 of their friends. At the beginning of the second day, floor(5/2)*3=2*3=6 people receive the advertisement.\n",
    "\n",
    "Each day, floor(recipients/2) of the recipients like the advertisement and will share it with 3 friends on the following day. Assuming nobody receives the advertisement twice, determine how many people have liked the ad by the end of a given day, beginning with launch day as day 1.*"
   ]
  },
  {
   "cell_type": "code",
   "execution_count": null,
   "metadata": {},
   "outputs": [],
   "source": [
    "import math\n",
    "import os\n",
    "import random\n",
    "import re\n",
    "import sys\n",
    "\n",
    "#\n",
    "# Complete the 'viralAdvertising' function below.\n",
    "#\n",
    "# The function is expected to return an INTEGER.\n",
    "# The function accepts INTEGER n as parameter.\n",
    "#\n",
    "\n",
    "def viralAdvertising(n):\n",
    "      \n",
    "    p=math.floor(5/2) # =2 --> base case\n",
    "    x=p*3 \n",
    "    res=[]\n",
    "    if n==1:\n",
    "        return(p)\n",
    "    elif n>=2:     \n",
    "        for i in range(2, n+1):\n",
    "            y=math.floor(x/2)\n",
    "            x=y*3\n",
    "            res.append(y)\n",
    "        res=sum(res)+p #I add the first case (the case base) not included in the for cicle\n",
    "        return(res)\n",
    "\n",
    "\n",
    "fptr = open(os.environ['OUTPUT_PATH'], 'w')\n",
    "n = int(input().strip())\n",
    "result = viralAdvertising(n)\n",
    "fptr.write(str(result) + '\\n')\n",
    "fptr.close()"
   ]
  },
  {
   "cell_type": "markdown",
   "metadata": {},
   "source": [
    "#### EX. 2.4: Recursive Digit Sum"
   ]
  },
  {
   "cell_type": "markdown",
   "metadata": {},
   "source": [
    "*We define super digit of an integer x using the following rules:*\n",
    "\n",
    "*Given an integer, we need to find the super digit of the integer.*\n",
    "\n",
    "*If x has only 1 digit, then its super digit is x.\n",
    "Otherwise, the super digit of x is equal to the super digit of the sum of the digits of x.*"
   ]
  },
  {
   "cell_type": "code",
   "execution_count": null,
   "metadata": {},
   "outputs": [],
   "source": [
    "import math\n",
    "import os\n",
    "import random\n",
    "import re\n",
    "import sys\n",
    "\n",
    "#\n",
    "# Complete the 'superDigit' function below.\n",
    "#\n",
    "# The function is expected to return an INTEGER.\n",
    "# The function accepts following parameters:\n",
    "#  1. STRING n\n",
    "#  2. INTEGER k\n",
    "#\n",
    "\n",
    "def superDigit(n, k):\n",
    "    num=map(int, n)\n",
    "    tot=sum(num)\n",
    "    return(fun_base(str(tot*k))) #it's the final function because it basically multiply the total sum (just 1 final number) for k\n",
    "\n",
    "def fun_base(n):\n",
    "    if len(n)==1: #base case where the number has 1 digit\n",
    "        return(int(n))\n",
    "    else:\n",
    "        num=map(int, n)\n",
    "        tot=sum(num)\n",
    "        return(fun_base(str(tot))) #I repeat the process since the number has more than 1 digit\n",
    "\n",
    "fptr = open(os.environ['OUTPUT_PATH'], 'w')\n",
    "first_multiple_input = input().rstrip().split()\n",
    "n = first_multiple_input[0]\n",
    "k = int(first_multiple_input[1])\n",
    "result = superDigit(n, k)\n",
    "fptr.write(str(result) + '\\n')\n",
    "fptr.close()"
   ]
  },
  {
   "cell_type": "markdown",
   "metadata": {},
   "source": [
    "#### EX. 2.5: Insertion Sort - Part 1"
   ]
  },
  {
   "cell_type": "markdown",
   "metadata": {},
   "source": [
    "*Given a sorted list with an unsorted number e in the rightmost cell, can you write some simple code to insert e into the array so that it remains sorted?*\n",
    "\n",
    "*Since this is a learning exercise, it won't be the most efficient way of performing the insertion. It will instead demonstrate the brute-force method in detail.*\n",
    "\n",
    "*Assume you are given the array arr=[1,2,4,5,3] indexed 0...4. Store the value of arr[4]. Now test lower index values successively from 3 to 0 until you reach a value that is lower than arr[4], at arr[1] in this case. Each time your test fails, copy the value at the lower index to the current index and print your array. When the next lower indexed value is smaller than arr[4], insert the stored value at the current index and print the entire array.*"
   ]
  },
  {
   "cell_type": "code",
   "execution_count": null,
   "metadata": {},
   "outputs": [],
   "source": [
    "import math\n",
    "import os\n",
    "import random\n",
    "import re\n",
    "import sys\n",
    "\n",
    "#\n",
    "# Complete the 'insertionSort1' function below.\n",
    "#\n",
    "# The function accepts following parameters:\n",
    "#  1. INTEGER n\n",
    "#  2. INTEGER_ARRAY arr\n",
    "#\n",
    "\n",
    "def insertionSort1(n, arr):\n",
    "    e=arr[n-1]\n",
    "    \n",
    "    for i in range(2, n+1): #this cicle functions controlling the array from the end to the start\n",
    "        if arr[n-i]>e: \n",
    "            arr[n-i+1] = arr[n-i]\n",
    "            print(' '.join(map(str, arr)))\n",
    "        else:\n",
    "            arr[n-i+1]=e\n",
    "            print(' '.join(map(str, arr)))\n",
    "            break\n",
    "    if arr[0]>e:\n",
    "        arr[0]=e\n",
    "        print(' '.join(map(str, arr)))\n",
    "\n",
    "\n",
    "n = int(input().strip())\n",
    "arr = list(map(int, input().rstrip().split()))\n",
    "insertionSort1(n, arr)"
   ]
  },
  {
   "cell_type": "markdown",
   "metadata": {},
   "source": [
    "#### EX. 2.6: Insertion Sort - Part 2"
   ]
  },
  {
   "cell_type": "markdown",
   "metadata": {},
   "source": [
    "*In Insertion Sort Part 1, you inserted one element into an array at its correct sorted position. Using the same approach repeatedly, can you sort an entire array?*\n",
    "\n",
    "*Guideline: You already can place an element into a sorted array. How can you use that code to build up a sorted array, one element at a time? Note that in the first step, when you consider an array with just the first element, it is already sorted since there's nothing to compare it to.*\n",
    "\n",
    "*In this challenge, print the array after each iteration of the insertion sort, i.e., whenever the next element has been inserted at its correct position. Since the array composed of just the first element is already sorted, begin printing after placing the second element.*"
   ]
  },
  {
   "cell_type": "code",
   "execution_count": null,
   "metadata": {},
   "outputs": [],
   "source": [
    "#For this excersise I was helped, just for the second cicle, by the solution in the official site.\n",
    "\n",
    "import math\n",
    "import os\n",
    "import random\n",
    "import re\n",
    "import sys\n",
    "\n",
    "#\n",
    "# Complete the 'insertionSort2' function below.\n",
    "#\n",
    "# The function accepts following parameters:\n",
    "#  1. INTEGER n\n",
    "#  2. INTEGER_ARRAY arr\n",
    "#\n",
    "\n",
    "def insertionSort2(n, arr):\n",
    "    \n",
    "    for i in range(1, n):\n",
    "        tmp = arr[i]\n",
    "        \n",
    "        if tmp < arr[i-1]:\n",
    "            for j in range(i, 0, -1): #I took this cicle from the solution\n",
    "                if tmp < arr[j-1]:\n",
    "                    arr[j] = arr[j-1] #exchanging the two values of the array\n",
    "                    arr[j-1] = tmp #new assegnation to the variable tmp\n",
    "                else:\n",
    "                    break\n",
    "    \n",
    "        print(\" \".join(map(str, arr)))\n",
    "\n",
    "\n",
    "n = int(input().strip())\n",
    "arr = list(map(int, input().rstrip().split()))\n",
    "insertionSort2(n, arr)"
   ]
  }
 ],
 "metadata": {
  "colab": {
   "provenance": []
  },
  "kernelspec": {
   "display_name": "Python 3 (ipykernel)",
   "language": "python",
   "name": "python3"
  },
  "language_info": {
   "codemirror_mode": {
    "name": "ipython",
    "version": 3
   },
   "file_extension": ".py",
   "mimetype": "text/x-python",
   "name": "python",
   "nbconvert_exporter": "python",
   "pygments_lexer": "ipython3",
   "version": "3.11.4"
  },
  "vscode": {
   "interpreter": {
    "hash": "c0e40e7c7a66e87c69eaa7498d7778a1d8fa6b3e422091d0b3e8dafd8f730247"
   }
  }
 },
 "nbformat": 4,
 "nbformat_minor": 4
}
